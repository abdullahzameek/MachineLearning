{
 "cells": [
  {
   "cell_type": "markdown",
   "metadata": {},
   "source": [
    "Abdullah Zameek (arz268)\n",
    "\n",
    "## Neural Network Assignment: Image Classification on CIFAR-10\n",
    "In this assignment, you will design and implement first a multi-layer perceptron model and then a convolutional network model in Pytorch. We will use the CIFAR-10 image dataset. Please complete the rest of the notebook by doing the following tasks.\n",
    "\n",
    "- Build your network (A MLP model and a CONVNET model). There are some requirements on the network structure, please check the corresponding code sections. \n",
    "- Train your network. \n",
    "- Describe your training procedure. Plot the following:\n",
    "    1. Training and validation loss vs. training iterations.\n",
    "    2. Training and validation accuracy vs. training iterations.\n",
    "- Report a final test result on 10000 separate testing examples.\n",
    "- Give detailed explanation of your code\n",
    "\n",
    "You can follow the skeleton code in the notebook to proceed. Look for the ##TODO## mark, that's where you should write your code. \n",
    "\n",
    "Check Pytorch documentation for reference: https://pytorch.org/tutorials/"
   ]
  },
  {
   "cell_type": "markdown",
   "metadata": {},
   "source": [
    "## 1.1 Download data\n",
    "From this website: https://www.cs.toronto.edu/~kriz/cifar.html\n",
    "Download the CIFAR-10 python version, which is 163 MB. \n",
    "Extract the file you downloaded, you should be able to see a folder named cifar-10-batches-py. The data files are inside. ('data_batch_1', 'data_batch_2', etc..). To make things easier put these data files in a new folder called 'cifar-10-data'. The folder 'cifar-10-data' should be in the same directory as your jupyter notebook. Now we load the data into memory. \n",
    "\n",
    "# TODO you should download data"
   ]
  },
  {
   "cell_type": "markdown",
   "metadata": {},
   "source": [
    "## 1.2 Loading Data: you should read the website's data description and have a better understanding of the data (quote):\n",
    "Loaded in this way, each of the batch files contains a dictionary with the following elements:\n",
    "data -- a 10000x3072 numpy array of uint8s. Each row of the array stores a 32x32 colour image. The first 1024 entries contain the red channel values, the next 1024 the green, and the final 1024 the blue. The image is stored in row-major order, so that the first 32 entries of the array are the red channel values of the first row of the image.\n",
    "labels -- a list of 10000 numbers in the range 0-9. The number at index i indicates the label of the ith image in the array data.\n",
    "\n",
    "The dataset contains another file, called batches.meta. It too contains a Python dictionary object. It has the following entries:\n",
    "label_names -- a 10-element list which gives meaningful names to the numeric labels in the labels array described above. For example, label_names[0] == \"airplane\", label_names[1] == \"automobile\", etc.\n"
   ]
  },
  {
   "cell_type": "code",
   "execution_count": 1,
   "metadata": {},
   "outputs": [],
   "source": [
    "import numpy as np\n",
    "import torch\n",
    "import torch.nn as nn\n",
    "import torch.optim as optim\n",
    "import torch.nn.functional as F"
   ]
  },
  {
   "cell_type": "code",
   "execution_count": 2,
   "metadata": {},
   "outputs": [],
   "source": [
    "## follow the instructions on the website\n",
    "def unpickle(file):\n",
    "    ## used to read binary files since our data files are in binary format\n",
    "    import pickle\n",
    "    with open(file, 'rb') as fo:\n",
    "        dict = pickle.load(fo, encoding='bytes')\n",
    "    return dict"
   ]
  },
  {
   "cell_type": "code",
   "execution_count": 3,
   "metadata": {},
   "outputs": [],
   "source": [
    "## loading data from binary data files\n",
    "batch_1_dictionary = unpickle('cifar-10-data/data_batch_1')\n",
    "batch_2_dictionary = unpickle('cifar-10-data/data_batch_2')"
   ]
  },
  {
   "cell_type": "code",
   "execution_count": 4,
   "metadata": {},
   "outputs": [
    {
     "data": {
      "text/plain": [
       "dict_keys([b'batch_label', b'labels', b'data', b'filenames'])"
      ]
     },
     "execution_count": 4,
     "metadata": {},
     "output_type": "execute_result"
    }
   ],
   "source": [
    "batch_1_dictionary.keys()"
   ]
  },
  {
   "cell_type": "code",
   "execution_count": 5,
   "metadata": {},
   "outputs": [],
   "source": [
    "## get training, validation and testing sets\n",
    "X_train_all = np.array(batch_1_dictionary[b'data']).reshape(10000,3,32,32)\n",
    "y_train_all = np.array(batch_1_dictionary[b'labels'])\n",
    "validation_count = 1000\n",
    "train_count = X_train_all.shape[0]-1000\n",
    "X_train = X_train_all[:train_count]\n",
    "y_train = y_train_all[:train_count]\n",
    "X_val = X_train_all[train_count:]\n",
    "y_val = y_train_all[train_count:]\n",
    "X_test = np.array(batch_2_dictionary[b'data']).reshape(10000,3,32,32)\n",
    "y_test = np.array(batch_2_dictionary[b'labels'])"
   ]
  },
  {
   "cell_type": "code",
   "execution_count": 6,
   "metadata": {},
   "outputs": [
    {
     "data": {
      "text/plain": [
       "((9000, 3, 32, 32),\n",
       " (9000,),\n",
       " (1000, 3, 32, 32),\n",
       " (1000,),\n",
       " (10000, 3, 32, 32),\n",
       " (10000,))"
      ]
     },
     "execution_count": 6,
     "metadata": {},
     "output_type": "execute_result"
    }
   ],
   "source": [
    "X_train.shape, y_train.shape, X_val.shape, y_val.shape, X_test.shape, y_test.shape"
   ]
  },
  {
   "cell_type": "code",
   "execution_count": 7,
   "metadata": {},
   "outputs": [
    {
     "name": "stdout",
     "output_type": "stream",
     "text": [
      "301.174784\n"
     ]
    }
   ],
   "source": [
    "import os\n",
    "import psutil\n",
    "process = psutil.Process(os.getpid())\n",
    "print(process.memory_info().rss / 1000000)  # in bytes "
   ]
  },
  {
   "cell_type": "markdown",
   "metadata": {},
   "source": [
    "## 1.3 Preprocess Data\n",
    "Typically public datasets have some kind of data description or manual that we can use to gain basic understanding of the dataset. You should always try to look for such things and utilize them before you start processing the data. We now want to preprocess the data. \n",
    "\n",
    "We now want to do a data normalization. (Do you still remember why data normalization is important? Refer to Normalizing Input in first week of Improving Deep Neural Networks: Hyperparameter tuning, Regularization and Optimization)\n",
    "You can typically just do the minus by mean and divide by std normalization. But since we are dealing with image data, we can use another type of data normalization: simply divide by 255 to bring all features to the range (0,1).  (Think about why the number 255?) There are different ways to normalize data, feel free to try more options if you are interested. \n",
    "\n",
    "## We use 255 because the range of RGB values go from 0-255, hence why RGB values are\n",
    "## usually represented as (R,G,B) where R, G, and B are some integer between 0-255\n",
    "\n",
    "# TODO \n",
    "write your data normalization function here"
   ]
  },
  {
   "cell_type": "code",
   "execution_count": 8,
   "metadata": {},
   "outputs": [],
   "source": [
    "# for RGB data we can simply divide by 255\n",
    "X_train_normalized = X_train/255\n",
    "X_val_normalized =  X_val/255\n",
    "X_test_normalized = X_test/255\n"
   ]
  },
  {
   "cell_type": "markdown",
   "metadata": {},
   "source": [
    "## 1.4 Take a look at the data\n",
    "We can plot the image data to have a better understanding of it."
   ]
  },
  {
   "cell_type": "code",
   "execution_count": 9,
   "metadata": {},
   "outputs": [],
   "source": [
    "## class label related\n",
    "CLASSES = ['plane', 'car', 'bird', 'cat', 'deer', 'dog', 'frog', 'horse', 'ship', 'truck']\n",
    "\n",
    "def index_to_class_name(y):\n",
    "    return CLASSES[y]\n",
    "def class_name_to_index(class_name):\n",
    "    return CLASSES.index(class_name)"
   ]
  },
  {
   "cell_type": "code",
   "execution_count": 10,
   "metadata": {},
   "outputs": [],
   "source": [
    "import math\n",
    "import matplotlib.pyplot as plt\n",
    "import matplotlib.image as mpimg\n",
    "\"\"\"\n",
    "Plotting utilities, if you want to know how these work exactly, check the reference\n",
    "Or the documentations\n",
    "reference: \n",
    "https://matplotlib.org/users/image_tutorial.html\n",
    "https://stackoverflow.com/questions/46615554/how-to-display-multiple-images-in-one-figure-correctly/46616645\n",
    "\"\"\" \n",
    "\n",
    "def show_single_image(data):\n",
    "    # show a single image\n",
    "    ## note that using matplotlib plotting function, we will have to reshape the data as (1,32,32,3)\n",
    "    img = data.reshape(3,32,32).transpose(1,2,0)\n",
    "    imgplot = plt.imshow(img)\n",
    "def show_multiple_images(data, data_y, n_show=12, columns=4):\n",
    "    ## given an array of data, show all of them as images\n",
    "    fig=plt.figure(figsize=(8, 8))\n",
    "    n = min(data.shape[0], n_show)\n",
    "    rows = math.ceil(n/columns)\n",
    "    for i in range(n):\n",
    "        img = data[i].reshape(3,32,32).transpose(1,2,0)\n",
    "        ax = fig.add_subplot(rows, columns, i+1) ## subplot index starts from 1 not 0\n",
    "        class_name = index_to_class_name(data_y[i])\n",
    "        ax.set_title(str(data_y[i])+\": \"+class_name)\n",
    "        plt.imshow(img)\n",
    "    plt.show()"
   ]
  },
  {
   "cell_type": "code",
   "execution_count": 11,
   "metadata": {},
   "outputs": [
    {
     "data": {
      "image/png": "[encoded data removed]",
      "text/plain": [
       "<Figure size 576x576 with 12 Axes>"
      ]
     },
     "metadata": {
      "needs_background": "light"
     },
     "output_type": "display_data"
    }
   ],
   "source": [
    "show_multiple_images(X_train, y_train)"
   ]
  },
  {
   "cell_type": "markdown",
   "metadata": {},
   "source": [
    "## 2.1 Design Network Structure of a MLP Model\n",
    "Reference: https://pytorch.org/tutorials/beginner/blitz/neural_networks_tutorial.html\n",
    "\n",
    "When we use a multi-layer perceptron (a very basic neural net with fully connected layers), we will need to flatten the data so that the MLP can use it. Each data point in our training data is currently in the form of 1x32x32x3, we want to convert it into 1x3072, so that its shape makes sense to our MLP's input layer. Recall that in our MLP, the input size for the first layer is 3072. There are multiple ways of doing this, we can directly flatten all data points, or we can also do the flattening for each mini-batch. \n",
    "\n",
    "In terms of the loss function, since we are doing the task of multi-class classification, we will use the cross entropy loss. \n",
    "\n",
    "We will use nn.CrossEntropyLoss to compute this, refer to Pytorch doc for details. A short summary is \"this criterion combines nn.LogSoftmax() and nn.NLLLoss() in one single class\" That basically means we don't have to worry about softmax layer and the log part. Make sure you read the Pytorch doc to understand exactly how it works. \n",
    "\n",
    "# TODO\n",
    "write your network structure here\n",
    "\n",
    "1. you should only use linear layers (nn.Linear), should use 2 or more linear layers\n",
    "2. and you should use relu as activation\n",
    "3. after the final layer we DON'T HAVE activation\n",
    "4. you should not use softmax here because pytorch's BCE loss includes softmax\n",
    "5. for hidden layer size, anything between 32-256 is OK"
   ]
  },
  {
   "cell_type": "code",
   "execution_count": 12,
   "metadata": {},
   "outputs": [],
   "source": [
    "import torch\n",
    "import torch.nn as nn\n",
    "import torch.nn.functional as F\n",
    "from torch import Tensor\n",
    "import torch.optim as optim\n",
    "\n",
    "class MLP(nn.Module):\n",
    "    ## a very simple MLP model\n",
    "    def __init__(self, input_dim, output_dim):\n",
    "        super(MLP, self).__init__()\n",
    "        self.fc1 = nn.Linear(input_dim, 32)\n",
    "        self.fc2 = nn.Linear(32,output_dim)\n",
    "\n",
    "    def forward(self, x):\n",
    "        z_1 = self.fc1(x)\n",
    "        a_1 = F.relu(z_1)\n",
    "        z_2 = self.fc2(a_1)\n",
    "        return z_2"
   ]
  },
  {
   "cell_type": "code",
   "execution_count": 13,
   "metadata": {},
   "outputs": [],
   "source": [
    "# utility for getting prediction accuracy\n",
    "def get_correct_and_accuracy(y_pred, y):\n",
    "    # y_pred is the nxC prediction scores\n",
    "    # give the number of correct and the accuracy\n",
    "    n = y.shape[0]\n",
    "    # find the prediction class label\n",
    "    _ ,pred_class = y_pred.max(dim=1)\n",
    "    correct = (pred_class == y).sum().item()\n",
    "    return correct ,correct/n"
   ]
  },
  {
   "cell_type": "markdown",
   "metadata": {},
   "source": [
    "## 2.2 Training the MLP model\n",
    "1. We first initialize the neural network, and also the optimizer and the criterion (loss function)\n",
    "2. We then convert data into correct tensor form (note for MLP we need to flatten the image data, from 3x32x32 to 3072)\n",
    "3. We then start doing training iterations\n",
    "\n",
    "# TODO \n",
    "write code here \n",
    "1. init your model\n",
    "2. use Adam optimizer, with lr=1e-3\n",
    "3. use cross entropy criterion\n",
    "4. for X_train, X_val, cast to Tensor and then reshape them to flatten them (change shape to mx3072)\n",
    "5. for y_train, y_val, cast to Tensor and then cast to type long\n",
    "6. simply do 100 iterations"
   ]
  },
  {
   "cell_type": "code",
   "execution_count": 14,
   "metadata": {
    "scrolled": true
   },
   "outputs": [
    {
     "name": "stdout",
     "output_type": "stream",
     "text": [
      "model structure:  MLP(\n",
      "  (fc1): Linear(in_features=3072, out_features=32, bias=True)\n",
      "  (fc2): Linear(in_features=32, out_features=10, bias=True)\n",
      ")\n",
      "36\n",
      "4\n",
      "torch.Size([9000, 3072])\n",
      "torch.Size([1000, 3072])\n",
      "torch.Size([10000, 3072])\n"
     ]
    }
   ],
   "source": [
    "# init network\n",
    "mlp = MLP(3072, 10)\n",
    "print('model structure: ',mlp)\n",
    "# init optimizer\n",
    "optimizer = optim.Adam(mlp.parameters(), lr= 1e-3) #lr = 1e-1 <==> learning rate = 0.001\n",
    "\n",
    "# set loss function\n",
    "criterion = nn.CrossEntropyLoss()\n",
    "\n",
    "# prepare for mini-batch stochastic gradient descent\n",
    "n_iteration = 100\n",
    "batch_size = 256\n",
    "n_train_data = X_train_normalized.shape[0]\n",
    "n_val_data = X_val_normalized.shape[0]\n",
    "n_test_data = X_test_normalized.shape[0]\n",
    "\n",
    "\n",
    "n_batch = int(np.ceil(n_train_data/batch_size))\n",
    "n_batch_val = int(np.ceil(n_val_data/batch_size))\n",
    "\n",
    "print(n_batch)\n",
    "print(n_batch_val)\n",
    "# convert X_train and X_val to tensor and flatten them\n",
    "X_train_tensor = Tensor(X_train_normalized).reshape(n_train_data,-1)\n",
    "print(X_train_tensor.shape)\n",
    "\n",
    "X_val_tensor = Tensor(X_val_normalized).reshape(n_val_data,-1)\n",
    "print(X_val_tensor.shape)\n",
    "\n",
    "X_test_tensor = Tensor(X_test_normalized).reshape(n_test_data,-1)\n",
    "print(X_test_tensor.shape)\n",
    "\n",
    "# convert training label to tensor and to type long\n",
    "y_train_tensor = Tensor(y_train).long()\n",
    "y_val_tensor = Tensor(y_val).long()\n",
    "y_test_tensor = Tensor(y_test).long()\n"
   ]
  },
  {
   "cell_type": "markdown",
   "metadata": {},
   "source": [
    "# TODO\n",
    "1. Here you will have to write training code \n",
    "2. As well as code to log the training process for later plotting\n",
    "3. After each iteration through training data, you should use that print function to log you current training process"
   ]
  },
  {
   "cell_type": "code",
   "execution_count": 15,
   "metadata": {
    "scrolled": true
   },
   "outputs": [
    {
     "name": "stdout",
     "output_type": "stream",
     "text": [
      "Iter 0 ,Train loss: 2.207, Train acc: 0.181, Val loss: 2.112, Val acc: 0.198\n",
      "Iter 1 ,Train loss: 2.124, Train acc: 0.244, Val loss: 1.990, Val acc: 0.286\n",
      "Iter 2 ,Train loss: 2.037, Train acc: 0.295, Val loss: 1.943, Val acc: 0.289\n",
      "Iter 3 ,Train loss: 1.995, Train acc: 0.306, Val loss: 1.922, Val acc: 0.298\n",
      "Iter 4 ,Train loss: 1.969, Train acc: 0.316, Val loss: 1.908, Val acc: 0.308\n",
      "Iter 5 ,Train loss: 1.950, Train acc: 0.329, Val loss: 1.899, Val acc: 0.314\n",
      "Iter 6 ,Train loss: 1.934, Train acc: 0.337, Val loss: 1.890, Val acc: 0.310\n",
      "Iter 7 ,Train loss: 1.920, Train acc: 0.343, Val loss: 1.883, Val acc: 0.319\n",
      "Iter 8 ,Train loss: 1.907, Train acc: 0.348, Val loss: 1.875, Val acc: 0.331\n",
      "Iter 9 ,Train loss: 1.894, Train acc: 0.355, Val loss: 1.870, Val acc: 0.325\n",
      "Iter 10 ,Train loss: 1.884, Train acc: 0.361, Val loss: 1.866, Val acc: 0.322\n",
      "Iter 11 ,Train loss: 1.874, Train acc: 0.365, Val loss: 1.863, Val acc: 0.330\n",
      "Iter 12 ,Train loss: 1.864, Train acc: 0.370, Val loss: 1.858, Val acc: 0.330\n",
      "Iter 13 ,Train loss: 1.856, Train acc: 0.371, Val loss: 1.855, Val acc: 0.330\n",
      "Iter 14 ,Train loss: 1.849, Train acc: 0.374, Val loss: 1.851, Val acc: 0.329\n",
      "Iter 15 ,Train loss: 1.842, Train acc: 0.375, Val loss: 1.849, Val acc: 0.331\n",
      "Iter 16 ,Train loss: 1.835, Train acc: 0.377, Val loss: 1.845, Val acc: 0.329\n",
      "Iter 17 ,Train loss: 1.829, Train acc: 0.378, Val loss: 1.841, Val acc: 0.334\n",
      "Iter 18 ,Train loss: 1.823, Train acc: 0.379, Val loss: 1.838, Val acc: 0.334\n",
      "Iter 19 ,Train loss: 1.817, Train acc: 0.382, Val loss: 1.834, Val acc: 0.332\n",
      "Iter 20 ,Train loss: 1.812, Train acc: 0.383, Val loss: 1.832, Val acc: 0.338\n",
      "Iter 21 ,Train loss: 1.807, Train acc: 0.385, Val loss: 1.830, Val acc: 0.337\n",
      "Iter 22 ,Train loss: 1.802, Train acc: 0.388, Val loss: 1.826, Val acc: 0.337\n",
      "Iter 23 ,Train loss: 1.797, Train acc: 0.389, Val loss: 1.822, Val acc: 0.337\n",
      "Iter 24 ,Train loss: 1.793, Train acc: 0.391, Val loss: 1.820, Val acc: 0.340\n",
      "Iter 25 ,Train loss: 1.789, Train acc: 0.393, Val loss: 1.818, Val acc: 0.345\n",
      "Iter 26 ,Train loss: 1.785, Train acc: 0.394, Val loss: 1.816, Val acc: 0.345\n",
      "Iter 27 ,Train loss: 1.781, Train acc: 0.395, Val loss: 1.813, Val acc: 0.346\n",
      "Iter 28 ,Train loss: 1.778, Train acc: 0.396, Val loss: 1.810, Val acc: 0.343\n",
      "Iter 29 ,Train loss: 1.774, Train acc: 0.397, Val loss: 1.806, Val acc: 0.342\n",
      "Iter 30 ,Train loss: 1.771, Train acc: 0.398, Val loss: 1.803, Val acc: 0.346\n",
      "Iter 31 ,Train loss: 1.768, Train acc: 0.399, Val loss: 1.801, Val acc: 0.343\n",
      "Iter 32 ,Train loss: 1.765, Train acc: 0.399, Val loss: 1.796, Val acc: 0.350\n",
      "Iter 33 ,Train loss: 1.762, Train acc: 0.399, Val loss: 1.793, Val acc: 0.352\n",
      "Iter 34 ,Train loss: 1.759, Train acc: 0.401, Val loss: 1.790, Val acc: 0.350\n",
      "Iter 35 ,Train loss: 1.756, Train acc: 0.400, Val loss: 1.787, Val acc: 0.350\n",
      "Iter 36 ,Train loss: 1.754, Train acc: 0.400, Val loss: 1.785, Val acc: 0.345\n",
      "Iter 37 ,Train loss: 1.751, Train acc: 0.402, Val loss: 1.783, Val acc: 0.351\n",
      "Iter 38 ,Train loss: 1.748, Train acc: 0.403, Val loss: 1.781, Val acc: 0.352\n",
      "Iter 39 ,Train loss: 1.746, Train acc: 0.403, Val loss: 1.782, Val acc: 0.350\n",
      "Iter 40 ,Train loss: 1.743, Train acc: 0.404, Val loss: 1.782, Val acc: 0.349\n",
      "Iter 41 ,Train loss: 1.740, Train acc: 0.404, Val loss: 1.782, Val acc: 0.346\n",
      "Iter 42 ,Train loss: 1.738, Train acc: 0.405, Val loss: 1.782, Val acc: 0.343\n",
      "Iter 43 ,Train loss: 1.735, Train acc: 0.407, Val loss: 1.781, Val acc: 0.345\n",
      "Iter 44 ,Train loss: 1.732, Train acc: 0.407, Val loss: 1.781, Val acc: 0.343\n",
      "Iter 45 ,Train loss: 1.729, Train acc: 0.409, Val loss: 1.781, Val acc: 0.349\n",
      "Iter 46 ,Train loss: 1.727, Train acc: 0.411, Val loss: 1.782, Val acc: 0.349\n",
      "Iter 47 ,Train loss: 1.725, Train acc: 0.412, Val loss: 1.781, Val acc: 0.351\n",
      "Iter 48 ,Train loss: 1.723, Train acc: 0.414, Val loss: 1.782, Val acc: 0.350\n",
      "Iter 49 ,Train loss: 1.721, Train acc: 0.416, Val loss: 1.782, Val acc: 0.350\n",
      "Iter 50 ,Train loss: 1.719, Train acc: 0.417, Val loss: 1.781, Val acc: 0.354\n",
      "Iter 51 ,Train loss: 1.716, Train acc: 0.419, Val loss: 1.780, Val acc: 0.355\n",
      "Iter 52 ,Train loss: 1.713, Train acc: 0.419, Val loss: 1.779, Val acc: 0.357\n",
      "Iter 53 ,Train loss: 1.711, Train acc: 0.418, Val loss: 1.779, Val acc: 0.357\n",
      "Iter 54 ,Train loss: 1.710, Train acc: 0.419, Val loss: 1.779, Val acc: 0.361\n",
      "Iter 55 ,Train loss: 1.708, Train acc: 0.419, Val loss: 1.778, Val acc: 0.361\n",
      "Iter 56 ,Train loss: 1.706, Train acc: 0.422, Val loss: 1.778, Val acc: 0.358\n",
      "Iter 57 ,Train loss: 1.705, Train acc: 0.422, Val loss: 1.778, Val acc: 0.356\n",
      "Iter 58 ,Train loss: 1.703, Train acc: 0.424, Val loss: 1.777, Val acc: 0.360\n",
      "Iter 59 ,Train loss: 1.701, Train acc: 0.424, Val loss: 1.776, Val acc: 0.360\n",
      "Iter 60 ,Train loss: 1.698, Train acc: 0.427, Val loss: 1.774, Val acc: 0.361\n",
      "Iter 61 ,Train loss: 1.697, Train acc: 0.428, Val loss: 1.774, Val acc: 0.362\n",
      "Iter 62 ,Train loss: 1.695, Train acc: 0.428, Val loss: 1.772, Val acc: 0.363\n",
      "Iter 63 ,Train loss: 1.693, Train acc: 0.428, Val loss: 1.771, Val acc: 0.366\n",
      "Iter 64 ,Train loss: 1.691, Train acc: 0.429, Val loss: 1.771, Val acc: 0.367\n",
      "Iter 65 ,Train loss: 1.690, Train acc: 0.430, Val loss: 1.770, Val acc: 0.367\n",
      "Iter 66 ,Train loss: 1.688, Train acc: 0.431, Val loss: 1.770, Val acc: 0.367\n",
      "Iter 67 ,Train loss: 1.687, Train acc: 0.431, Val loss: 1.770, Val acc: 0.367\n",
      "Iter 68 ,Train loss: 1.685, Train acc: 0.432, Val loss: 1.769, Val acc: 0.369\n",
      "Iter 69 ,Train loss: 1.684, Train acc: 0.433, Val loss: 1.768, Val acc: 0.370\n",
      "Iter 70 ,Train loss: 1.682, Train acc: 0.433, Val loss: 1.767, Val acc: 0.371\n",
      "Iter 71 ,Train loss: 1.681, Train acc: 0.433, Val loss: 1.765, Val acc: 0.371\n",
      "Iter 72 ,Train loss: 1.679, Train acc: 0.433, Val loss: 1.765, Val acc: 0.374\n",
      "Iter 73 ,Train loss: 1.678, Train acc: 0.433, Val loss: 1.765, Val acc: 0.374\n",
      "Iter 74 ,Train loss: 1.676, Train acc: 0.433, Val loss: 1.764, Val acc: 0.376\n",
      "Iter 75 ,Train loss: 1.675, Train acc: 0.434, Val loss: 1.764, Val acc: 0.376\n",
      "Iter 76 ,Train loss: 1.674, Train acc: 0.435, Val loss: 1.763, Val acc: 0.380\n",
      "Iter 77 ,Train loss: 1.672, Train acc: 0.435, Val loss: 1.763, Val acc: 0.381\n",
      "Iter 78 ,Train loss: 1.672, Train acc: 0.434, Val loss: 1.762, Val acc: 0.380\n",
      "Iter 79 ,Train loss: 1.670, Train acc: 0.435, Val loss: 1.761, Val acc: 0.380\n",
      "Iter 80 ,Train loss: 1.669, Train acc: 0.434, Val loss: 1.759, Val acc: 0.381\n",
      "Iter 81 ,Train loss: 1.667, Train acc: 0.435, Val loss: 1.757, Val acc: 0.379\n",
      "Iter 82 ,Train loss: 1.665, Train acc: 0.436, Val loss: 1.756, Val acc: 0.381\n",
      "Iter 83 ,Train loss: 1.664, Train acc: 0.438, Val loss: 1.754, Val acc: 0.386\n",
      "Iter 84 ,Train loss: 1.662, Train acc: 0.439, Val loss: 1.753, Val acc: 0.385\n",
      "Iter 85 ,Train loss: 1.661, Train acc: 0.439, Val loss: 1.752, Val acc: 0.383\n",
      "Iter 86 ,Train loss: 1.660, Train acc: 0.439, Val loss: 1.750, Val acc: 0.385\n",
      "Iter 87 ,Train loss: 1.659, Train acc: 0.440, Val loss: 1.748, Val acc: 0.386\n",
      "Iter 88 ,Train loss: 1.657, Train acc: 0.440, Val loss: 1.748, Val acc: 0.384\n",
      "Iter 89 ,Train loss: 1.656, Train acc: 0.441, Val loss: 1.747, Val acc: 0.385\n",
      "Iter 90 ,Train loss: 1.655, Train acc: 0.441, Val loss: 1.746, Val acc: 0.386\n",
      "Iter 91 ,Train loss: 1.653, Train acc: 0.441, Val loss: 1.745, Val acc: 0.384\n",
      "Iter 92 ,Train loss: 1.652, Train acc: 0.442, Val loss: 1.745, Val acc: 0.384\n",
      "Iter 93 ,Train loss: 1.651, Train acc: 0.442, Val loss: 1.744, Val acc: 0.384\n",
      "Iter 94 ,Train loss: 1.650, Train acc: 0.442, Val loss: 1.743, Val acc: 0.383\n",
      "Iter 95 ,Train loss: 1.649, Train acc: 0.442, Val loss: 1.742, Val acc: 0.383\n",
      "Iter 96 ,Train loss: 1.647, Train acc: 0.443, Val loss: 1.741, Val acc: 0.381\n",
      "Iter 97 ,Train loss: 1.646, Train acc: 0.443, Val loss: 1.741, Val acc: 0.382\n",
      "Iter 98 ,Train loss: 1.645, Train acc: 0.442, Val loss: 1.741, Val acc: 0.382\n",
      "Iter 99 ,Train loss: 1.643, Train acc: 0.443, Val loss: 1.740, Val acc: 0.384\n"
     ]
    }
   ],
   "source": [
    "## start \n",
    "train_loss_list = np.zeros(n_iteration)\n",
    "train_accu_list = np.zeros(n_iteration)\n",
    "val_loss_list = np.zeros(n_iteration)\n",
    "val_accu_list = np.zeros(n_iteration)\n",
    "\n",
    "train_accu = 0\n",
    "val_accu = 0\n",
    "ave_train_loss = 0\n",
    "ave_val_loss = 0\n",
    "\n",
    "for i in range(n_iteration):\n",
    "    # first get a minibatch of data\n",
    "    for j in range(n_batch):\n",
    "        batch_start_index = j*batch_size\n",
    "        # get data batch from the normalized data\n",
    "        X_batch = X_train_tensor[batch_start_index:batch_start_index+batch_size]\n",
    "        # get ground truth label y\n",
    "        y_batch = y_train_tensor[batch_start_index:batch_start_index+batch_size]\n",
    "\n",
    "        y_pred = mlp.forward(X_batch)\n",
    "        train_loss = criterion(y_pred, y_batch)\n",
    "        \n",
    "        optimizer.zero_grad()\n",
    "        train_loss.backward()\n",
    "        optimizer.step()\n",
    "        \n",
    "        numCorrect, iter_accu = get_correct_and_accuracy(y_pred,y_batch)\n",
    "        \n",
    "        train_accu += iter_accu\n",
    "        ave_train_loss += train_loss\n",
    "  \n",
    "    train_accu /= n_batch\n",
    "    ave_train_loss /= n_batch\n",
    "    \n",
    "    val_pred = mlp.forward(X_val_tensor)\n",
    "    val_loss = criterion(val_pred, y_val_tensor)\n",
    "    optimizer.zero_grad()\n",
    "    val_loss.backward()\n",
    "    optimizer.step()\n",
    "    correct, val_accu = get_correct_and_accuracy(val_pred,y_val_tensor)\n",
    "    \n",
    "    print(\"Iter %d ,Train loss: %.3f, Train acc: %.3f, Val loss: %.3f, Val acc: %.3f\" \n",
    "          %(i ,ave_train_loss, train_accu, val_loss, val_accu)) \n",
    "    \n",
    "    ## add to the logs so that we can use them later for plotting\n",
    "    train_loss_list[i] = ave_train_loss\n",
    "    train_accu_list[i] = train_accu\n",
    "    val_loss_list[i] = val_loss\n",
    "    val_accu_list[i] = val_accu\n",
    "    "
   ]
  },
  {
   "cell_type": "markdown",
   "metadata": {},
   "source": [
    "## 2.3 Plotting training process\n",
    "We want to first plot training loss versus validation loss, then plot training accuracy, validation accuracy.\n",
    "\n",
    "# TODO\n",
    "run the plotting functions"
   ]
  },
  {
   "cell_type": "code",
   "execution_count": 16,
   "metadata": {},
   "outputs": [
    {
     "data": {
      "image/png": "[encoded data removed]",
      "text/plain": [
       "<Figure size 432x288 with 1 Axes>"
      ]
     },
     "metadata": {
      "needs_background": "light"
     },
     "output_type": "display_data"
    }
   ],
   "source": [
    "## plot training loss versus validation loss\n",
    "x_axis = np.arange(n_iteration)\n",
    "plt.plot(x_axis, train_loss_list, label='train loss')\n",
    "plt.plot(x_axis, val_loss_list, label='val loss')\n",
    "plt.legend()\n",
    "plt.show()"
   ]
  },
  {
   "cell_type": "code",
   "execution_count": 17,
   "metadata": {},
   "outputs": [
    {
     "data": {
      "image/png": "[encoded data removed]",
      "text/plain": [
       "<Figure size 432x288 with 1 Axes>"
      ]
     },
     "metadata": {
      "needs_background": "light"
     },
     "output_type": "display_data"
    }
   ],
   "source": [
    "## plot training accuracy versus validation accuracy\n",
    "plt.plot(x_axis, train_accu_list, label='train acc')\n",
    "plt.plot(x_axis, val_accu_list, label='val acc')\n",
    "plt.legend()\n",
    "plt.show()"
   ]
  },
  {
   "cell_type": "markdown",
   "metadata": {},
   "source": [
    "## 2.4 Report testing performance\n",
    "We want run the trained model on test data to see how well it does\n",
    "\n",
    "# TODO\n",
    "write code here to report test accuracy on the 10000 test data"
   ]
  },
  {
   "cell_type": "code",
   "execution_count": 18,
   "metadata": {},
   "outputs": [
    {
     "name": "stdout",
     "output_type": "stream",
     "text": [
      "Test accuracy:  0.357\n"
     ]
    }
   ],
   "source": [
    "## test performance on the test set and report final performance\n",
    "test_pred = mlp.forward(X_test_tensor)\n",
    "test_loss = criterion(test_pred, y_test_tensor)\n",
    "optimizer.zero_grad()\n",
    "test_loss.backward()\n",
    "optimizer.step()\n",
    "correct, test_accu = get_correct_and_accuracy(test_pred,y_test_tensor)\n",
    "    \n",
    "print(\"Test accuracy: \", test_accu)"
   ]
  },
  {
   "cell_type": "markdown",
   "metadata": {},
   "source": [
    "## 3.1 Now we design a convolutional network\n",
    "Check pytorch documentation for usage of each layer\n",
    "\n",
    "# TODO\n",
    "write network structure here\n",
    "you should do:\n",
    "1. use at least 2 conv layer\n",
    "2. at least 1 maxpool layer\n",
    "3. at least 2 linear layer at the end"
   ]
  },
  {
   "cell_type": "code",
   "execution_count": 19,
   "metadata": {},
   "outputs": [],
   "source": [
    "class ConvNet(nn.Module):\n",
    "    def __init__(self):\n",
    "        super(ConvNet, self).__init__()\n",
    "        self.conv1 = nn.Conv2d(3, 6, 5)\n",
    "        self.conv1_bn = nn.BatchNorm2d(6)\n",
    "        self.pool = nn.MaxPool2d(2, 2)\n",
    "        self.conv2 = nn.Conv2d(6, 16, 5)\n",
    "        self.conv2_bn = nn.BatchNorm2d(16)\n",
    "        self.fc1 = nn.Linear(16 * 5 * 5, 120)\n",
    "        self.fc2 = nn.Linear(120, 84)\n",
    "        self.fc2_bn = nn.BatchNorm1d(84)\n",
    "        self.fc3 = nn.Linear(84, 10)\n",
    "\n",
    "    def forward(self, x):\n",
    "        x = self.pool(F.relu(self.conv1_bn(self.conv1(x))))\n",
    "        x = self.pool(F.relu(self.conv2(x)))\n",
    "        x = x.view(-1, 16 * 5 * 5)\n",
    "        x = F.relu(self.fc1(x))\n",
    "        x = F.relu(self.fc2_bn(self.fc2(x)))\n",
    "        x = self.fc3(x)\n",
    "        \n",
    "        return x"
   ]
  },
  {
   "cell_type": "code",
   "execution_count": 20,
   "metadata": {},
   "outputs": [],
   "source": [
    "from torch import Tensor\n"
   ]
  },
  {
   "cell_type": "markdown",
   "metadata": {},
   "source": [
    "## 3.2 Training the Convolutional Net model\n",
    "1. We first initialize the neural network, and also the optimizer and the criterion (loss function)\n",
    "2. We then convert data into correct tensor form\n",
    "3. We then start doing training iterations\n",
    "\n",
    "# TODO \n",
    "write code here \n",
    "1. init your model\n",
    "2. use Adam optimizer, with lr=1e-3\n",
    "3. use cross entropy criterion\n",
    "4. for X_train, X_val, cast to Tensor \n",
    "5. for y_train, y_val, cast to Tensor and then cast to type long\n",
    "6. simply do 40 iterations"
   ]
  },
  {
   "cell_type": "code",
   "execution_count": 21,
   "metadata": {},
   "outputs": [
    {
     "name": "stdout",
     "output_type": "stream",
     "text": [
      "model structure:  ConvNet(\n",
      "  (conv1): Conv2d(3, 6, kernel_size=(5, 5), stride=(1, 1))\n",
      "  (conv1_bn): BatchNorm2d(6, eps=1e-05, momentum=0.1, affine=True, track_running_stats=True)\n",
      "  (pool): MaxPool2d(kernel_size=2, stride=2, padding=0, dilation=1, ceil_mode=False)\n",
      "  (conv2): Conv2d(6, 16, kernel_size=(5, 5), stride=(1, 1))\n",
      "  (conv2_bn): BatchNorm2d(16, eps=1e-05, momentum=0.1, affine=True, track_running_stats=True)\n",
      "  (fc1): Linear(in_features=400, out_features=120, bias=True)\n",
      "  (fc2): Linear(in_features=120, out_features=84, bias=True)\n",
      "  (fc2_bn): BatchNorm1d(84, eps=1e-05, momentum=0.1, affine=True, track_running_stats=True)\n",
      "  (fc3): Linear(in_features=84, out_features=10, bias=True)\n",
      ")\n",
      "X train tensor shape: torch.Size([9000, 3, 32, 32])\n",
      "X test tensor shape: torch.Size([10000, 3, 32, 32])\n",
      "Y test tensor shape: torch.Size([10000])\n"
     ]
    }
   ],
   "source": [
    "# init network\n",
    "conv_net = ConvNet()\n",
    "print('model structure: ', conv_net)\n",
    "# init optimizer\n",
    "optimizer = optim.Adam(conv_net.parameters(), lr= 1e-3) #lr = 1e-1 <==> learning rate = 0.001\n",
    "\n",
    "# set loss function\n",
    "criterion = nn.CrossEntropyLoss()\n",
    "\n",
    "# prepare for mini-batch stochastic gradient descent\n",
    "n_iteration = 40\n",
    "batch_size = 256\n",
    "n_data = X_train_normalized.shape[0]\n",
    "n_batch = int(np.ceil(n_data/batch_size))\n",
    "\n",
    "# convert X_train and X_val to tensor and flatten them\n",
    "X_train_tensor = Tensor(X_train_normalized)\n",
    "X_val_tensor = Tensor(X_val_normalized)\n",
    "X_test_tensor = Tensor(X_test_normalized)\n",
    "\n",
    "# convert training label to tensor and to type long\n",
    "y_train_tensor = Tensor(y_train).long()\n",
    "y_val_tensor = Tensor(y_val).long()\n",
    "y_test_tensor = Tensor(y_test).long()\n",
    "\n",
    "print('X train tensor shape:', X_train_tensor.shape)\n",
    "print('X test tensor shape:', X_test_tensor.shape)\n",
    "print('Y test tensor shape:', y_test_tensor.shape)"
   ]
  },
  {
   "cell_type": "code",
   "execution_count": 22,
   "metadata": {},
   "outputs": [
    {
     "name": "stdout",
     "output_type": "stream",
     "text": [
      "1779.93728\n"
     ]
    }
   ],
   "source": [
    "import os\n",
    "import psutil\n",
    "process = psutil.Process(os.getpid())\n",
    "print(process.memory_info().rss / 1000000)  # in bytes "
   ]
  },
  {
   "cell_type": "markdown",
   "metadata": {},
   "source": [
    "# TODO\n",
    "1. Here you will have to write training code \n",
    "2. As well as code to log the training process for later plotting\n",
    "3. After each iteration through training data, you should use that print function to log you current training process"
   ]
  },
  {
   "cell_type": "code",
   "execution_count": 23,
   "metadata": {
    "scrolled": true
   },
   "outputs": [
    {
     "name": "stdout",
     "output_type": "stream",
     "text": [
      "0 1708.449792\n",
      "Iter 0 ,Train loss: 2.105, Train acc: 0.272, Val loss: 1.928, Val acc: 0.367\n",
      "1 1709.047808\n",
      "Iter 1 ,Train loss: 1.857, Train acc: 0.399, Val loss: 1.683, Val acc: 0.422\n",
      "2 1709.043712\n",
      "Iter 2 ,Train loss: 1.620, Train acc: 0.472, Val loss: 1.513, Val acc: 0.458\n",
      "3 1709.060096\n",
      "Iter 3 ,Train loss: 1.457, Train acc: 0.525, Val loss: 1.419, Val acc: 0.488\n",
      "4 1709.07648\n",
      "Iter 4 ,Train loss: 1.337, Train acc: 0.560, Val loss: 1.371, Val acc: 0.503\n",
      "5 1709.092864\n",
      "Iter 5 ,Train loss: 1.239, Train acc: 0.598, Val loss: 1.324, Val acc: 0.534\n",
      "6 1709.109248\n",
      "Iter 6 ,Train loss: 1.163, Train acc: 0.624, Val loss: 1.303, Val acc: 0.529\n",
      "7 1709.125632\n",
      "Iter 7 ,Train loss: 1.106, Train acc: 0.648, Val loss: 1.303, Val acc: 0.525\n",
      "8 1709.129728\n",
      "Iter 8 ,Train loss: 1.077, Train acc: 0.656, Val loss: 1.288, Val acc: 0.537\n",
      "9 1709.133824\n",
      "Iter 9 ,Train loss: 1.057, Train acc: 0.660, Val loss: 1.291, Val acc: 0.537\n",
      "10 1709.13792\n",
      "Iter 10 ,Train loss: 0.999, Train acc: 0.686, Val loss: 1.255, Val acc: 0.553\n",
      "11 1709.142016\n",
      "Iter 11 ,Train loss: 0.940, Train acc: 0.706, Val loss: 1.239, Val acc: 0.576\n",
      "12 1709.146112\n",
      "Iter 12 ,Train loss: 0.900, Train acc: 0.721, Val loss: 1.258, Val acc: 0.585\n",
      "13 1709.150208\n",
      "Iter 13 ,Train loss: 0.868, Train acc: 0.726, Val loss: 1.228, Val acc: 0.577\n",
      "14 1709.154304\n",
      "Iter 14 ,Train loss: 0.834, Train acc: 0.738, Val loss: 1.250, Val acc: 0.554\n",
      "15 1709.1584\n",
      "Iter 15 ,Train loss: 0.808, Train acc: 0.749, Val loss: 1.266, Val acc: 0.562\n",
      "16 1709.162496\n",
      "Iter 16 ,Train loss: 0.781, Train acc: 0.757, Val loss: 1.335, Val acc: 0.542\n",
      "17 1709.166592\n",
      "Iter 17 ,Train loss: 0.741, Train acc: 0.772, Val loss: 1.316, Val acc: 0.559\n",
      "18 1709.170688\n",
      "Iter 18 ,Train loss: 0.696, Train acc: 0.787, Val loss: 1.242, Val acc: 0.580\n",
      "19 1709.174784\n",
      "Iter 19 ,Train loss: 0.632, Train acc: 0.817, Val loss: 1.240, Val acc: 0.591\n",
      "20 1709.17888\n",
      "Iter 20 ,Train loss: 0.589, Train acc: 0.839, Val loss: 1.254, Val acc: 0.593\n",
      "21 1709.182976\n",
      "Iter 21 ,Train loss: 0.562, Train acc: 0.846, Val loss: 1.254, Val acc: 0.592\n",
      "22 1709.187072\n",
      "Iter 22 ,Train loss: 0.554, Train acc: 0.846, Val loss: 1.255, Val acc: 0.583\n",
      "23 1709.191168\n",
      "Iter 23 ,Train loss: 0.510, Train acc: 0.862, Val loss: 1.214, Val acc: 0.596\n",
      "24 1709.195264\n",
      "Iter 24 ,Train loss: 0.471, Train acc: 0.876, Val loss: 1.178, Val acc: 0.620\n",
      "25 1709.19936\n",
      "Iter 25 ,Train loss: 0.440, Train acc: 0.888, Val loss: 1.204, Val acc: 0.618\n",
      "26 1709.203456\n",
      "Iter 26 ,Train loss: 0.415, Train acc: 0.899, Val loss: 1.221, Val acc: 0.598\n",
      "27 1709.207552\n",
      "Iter 27 ,Train loss: 0.408, Train acc: 0.895, Val loss: 1.242, Val acc: 0.590\n",
      "28 1709.211648\n",
      "Iter 28 ,Train loss: 0.432, Train acc: 0.880, Val loss: 1.300, Val acc: 0.584\n",
      "29 1709.215744\n",
      "Iter 29 ,Train loss: 0.436, Train acc: 0.876, Val loss: 1.363, Val acc: 0.585\n",
      "30 1709.21984\n",
      "Iter 30 ,Train loss: 0.427, Train acc: 0.885, Val loss: 1.246, Val acc: 0.617\n",
      "31 1709.223936\n",
      "Iter 31 ,Train loss: 0.379, Train acc: 0.905, Val loss: 1.204, Val acc: 0.627\n",
      "32 1709.24032\n",
      "Iter 32 ,Train loss: 0.343, Train acc: 0.922, Val loss: 1.219, Val acc: 0.610\n",
      "33 1709.256704\n",
      "Iter 33 ,Train loss: 0.330, Train acc: 0.926, Val loss: 1.167, Val acc: 0.631\n",
      "34 1709.2608\n",
      "Iter 34 ,Train loss: 0.324, Train acc: 0.924, Val loss: 1.187, Val acc: 0.627\n",
      "35 1709.264896\n",
      "Iter 35 ,Train loss: 0.324, Train acc: 0.924, Val loss: 1.165, Val acc: 0.640\n",
      "36 1709.268992\n",
      "Iter 36 ,Train loss: 0.302, Train acc: 0.935, Val loss: 1.130, Val acc: 0.649\n",
      "37 1709.285376\n",
      "Iter 37 ,Train loss: 0.264, Train acc: 0.951, Val loss: 1.091, Val acc: 0.660\n",
      "38 1709.289472\n",
      "Iter 38 ,Train loss: 0.247, Train acc: 0.959, Val loss: 1.118, Val acc: 0.645\n",
      "39 1709.293568\n",
      "Iter 39 ,Train loss: 0.259, Train acc: 0.950, Val loss: 1.134, Val acc: 0.652\n"
     ]
    }
   ],
   "source": [
    "## start \n",
    "train_loss_list = np.zeros(n_iteration)\n",
    "train_accu_list = np.zeros(n_iteration)\n",
    "val_loss_list = np.zeros(n_iteration)\n",
    "val_accu_list = np.zeros(n_iteration)\n",
    "\n",
    "train_accu = 0\n",
    "val_accu = 0\n",
    "ave_train_loss = 0\n",
    "val_loss = 0\n",
    "\n",
    "for i in range(n_iteration):\n",
    "    # first get a minibatch of data\n",
    "    for j in range(n_batch):\n",
    "        batch_start_index = j*batch_size\n",
    "        # get data batch from the normalized data\n",
    "        X_batch = X_train_tensor[batch_start_index:batch_start_index+batch_size]\n",
    "        # get ground truth label y\n",
    "        y_batch = y_train_tensor[batch_start_index:batch_start_index+batch_size]\n",
    "    \n",
    "        y_pred_train = conv_net.forward(X_batch)\n",
    "        train_loss = criterion(y_pred_train, y_batch)\n",
    "    \n",
    "        optimizer.zero_grad()\n",
    "        train_loss.backward()\n",
    "        optimizer.step()\n",
    "    \n",
    "        numCorrect, iter_accu = get_correct_and_accuracy(y_pred_train, y_batch)\n",
    "\n",
    "        train_accu += iter_accu\n",
    "        ave_train_loss += train_loss.item()\n",
    "        \n",
    "    process = psutil.Process(os.getpid())\n",
    "    print(i, process.memory_info().rss / 1000000)  # in bytes \n",
    "    \n",
    "    train_accu /= n_batch\n",
    "    ave_train_loss /= n_batch\n",
    "    \n",
    "    val_pred = conv_net.forward(X_val_tensor)\n",
    "    val_loss = criterion(val_pred, y_val_tensor)\n",
    "    optimizer.zero_grad()\n",
    "    val_loss.backward()\n",
    "    optimizer.step()\n",
    "    correct, val_accu = get_correct_and_accuracy(val_pred,y_val_tensor)\n",
    "    \n",
    "    print(\"Iter %d ,Train loss: %.3f, Train acc: %.3f, Val loss: %.3f, Val acc: %.3f\" \n",
    "          %(i ,ave_train_loss, train_accu, val_loss, val_accu)) \n",
    "    ## add to the logs so that we can use them later for plotting\n",
    "    train_loss_list[i] = ave_train_loss\n",
    "    train_accu_list[i] = train_accu\n",
    "    val_loss_list[i] = val_loss.item()\n",
    "    val_accu_list[i] = val_accu"
   ]
  },
  {
   "cell_type": "markdown",
   "metadata": {},
   "source": [
    "## 3.3 Plotting training process\n",
    "We want to first plot training loss versus validation loss, then plot training accuracy, validation accuracy.\n",
    "\n",
    "# TODO \n",
    "run the code here for plotting"
   ]
  },
  {
   "cell_type": "code",
   "execution_count": 24,
   "metadata": {},
   "outputs": [
    {
     "data": {
      "image/png": "[encoded data removed]",
      "text/plain": [
       "<Figure size 432x288 with 1 Axes>"
      ]
     },
     "metadata": {
      "needs_background": "light"
     },
     "output_type": "display_data"
    }
   ],
   "source": [
    "## plot training loss versus validation loss\n",
    "x_axis = np.arange(n_iteration)\n",
    "plt.plot(x_axis, train_loss_list, label='train loss')\n",
    "plt.plot(x_axis, val_loss_list, label='val loss')\n",
    "plt.legend()\n",
    "plt.show()"
   ]
  },
  {
   "cell_type": "code",
   "execution_count": 25,
   "metadata": {},
   "outputs": [
    {
     "data": {
      "image/png": "[encoded data removed]",
      "text/plain": [
       "<Figure size 432x288 with 1 Axes>"
      ]
     },
     "metadata": {
      "needs_background": "light"
     },
     "output_type": "display_data"
    }
   ],
   "source": [
    "## plot training accuracy versus validation accuracy\n",
    "plt.plot(x_axis, train_accu_list, label='train acc')\n",
    "plt.plot(x_axis, val_accu_list, label='val acc')\n",
    "plt.legend()\n",
    "plt.show()"
   ]
  },
  {
   "cell_type": "markdown",
   "metadata": {},
   "source": [
    "## 3.4 Report testing performance\n",
    "We want run the trained model on test data to see how well it does\n",
    "\n",
    "# TODO\n",
    "write code here to report test accuracy on the 10000 test data"
   ]
  },
  {
   "cell_type": "code",
   "execution_count": 26,
   "metadata": {},
   "outputs": [
    {
     "name": "stdout",
     "output_type": "stream",
     "text": [
      "Test accuracy:  0.4667\n"
     ]
    }
   ],
   "source": [
    "## test performance on the test set and report final performance\n",
    "## test performance on the test set and report final performance\n",
    "test_pred = conv_net.forward(X_test_tensor)\n",
    "test_loss = criterion(test_pred, y_test_tensor)\n",
    "optimizer.zero_grad()\n",
    "test_loss.backward()\n",
    "optimizer.step()\n",
    "correct, test_accu = get_correct_and_accuracy(test_pred,y_test_tensor)\n",
    "\n",
    "print(\"Test accuracy: \", test_accu )"
   ]
  },
  {
   "cell_type": "markdown",
   "metadata": {},
   "source": [
    "## Other things you can do to improve model performance: \n",
    "1. Add in regularization, you can use l2, Dropout\n",
    "2. Use a better data normalization method\n",
    "3. Train on more data\n",
    "4. Do data augmentation to get more data\n",
    "5. Use a more powerful network structure\n",
    "6. Do transfer learning"
   ]
  },
  {
   "cell_type": "code",
   "execution_count": null,
   "metadata": {},
   "outputs": [],
   "source": []
  },
  {
   "cell_type": "code",
   "execution_count": null,
   "metadata": {},
   "outputs": [],
   "source": []
  },
  {
   "cell_type": "code",
   "execution_count": null,
   "metadata": {},
   "outputs": [],
   "source": []
  },
  {
   "cell_type": "code",
   "execution_count": null,
   "metadata": {},
   "outputs": [],
   "source": []
  },
  {
   "cell_type": "code",
   "execution_count": null,
   "metadata": {},
   "outputs": [],
   "source": []
  }
 ],
 "metadata": {
  "kernelspec": {
   "display_name": "Python 3",
   "language": "python",
   "name": "python3"
  },
  "language_info": {
   "codemirror_mode": {
    "name": "ipython",
    "version": 3
   },
   "file_extension": ".py",
   "mimetype": "text/x-python",
   "name": "python",
   "nbconvert_exporter": "python",
   "pygments_lexer": "ipython3",
   "version": "3.6.8"
  }
 },
 "nbformat": 4,
 "nbformat_minor": 2
}
