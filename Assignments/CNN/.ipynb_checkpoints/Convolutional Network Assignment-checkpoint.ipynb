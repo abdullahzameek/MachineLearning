{
 "cells": [
  {
   "cell_type": "markdown",
   "metadata": {},
   "source": [
    "Abdullah Zameek (arz268)\n",
    "\n",
    "## Neural Network Assignment: Image Classification on CIFAR-10\n",
    "In this assignment, you will design and implement first a multi-layer perceptron model and then a convolutional network model in Pytorch. We will use the CIFAR-10 image dataset. Please complete the rest of the notebook by doing the following tasks.\n",
    "\n",
    "- Build your network (A MLP model and a CONVNET model). There are some requirements on the network structure, please check the corresponding code sections. \n",
    "- Train your network. \n",
    "- Describe your training procedure. Plot the following:\n",
    "    1. Training and validation loss vs. training iterations.\n",
    "    2. Training and validation accuracy vs. training iterations.\n",
    "- Report a final test result on 10000 separate testing examples.\n",
    "- Give detailed explanation of your code\n",
    "\n",
    "You can follow the skeleton code in the notebook to proceed. Look for the ##TODO## mark, that's where you should write your code. \n",
    "\n",
    "Check Pytorch documentation for reference: https://pytorch.org/tutorials/"
   ]
  },
  {
   "cell_type": "markdown",
   "metadata": {},
   "source": [
    "## 1.1 Download data\n",
    "From this website: https://www.cs.toronto.edu/~kriz/cifar.html\n",
    "Download the CIFAR-10 python version, which is 163 MB. \n",
    "Extract the file you downloaded, you should be able to see a folder named cifar-10-batches-py. The data files are inside. ('data_batch_1', 'data_batch_2', etc..). To make things easier put these data files in a new folder called 'cifar-10-data'. The folder 'cifar-10-data' should be in the same directory as your jupyter notebook. Now we load the data into memory. \n",
    "\n",
    "# TODO you should download data"
   ]
  },
  {
   "cell_type": "markdown",
   "metadata": {},
   "source": [
    "## 1.2 Loading Data: you should read the website's data description and have a better understanding of the data (quote):\n",
    "Loaded in this way, each of the batch files contains a dictionary with the following elements:\n",
    "data -- a 10000x3072 numpy array of uint8s. Each row of the array stores a 32x32 colour image. The first 1024 entries contain the red channel values, the next 1024 the green, and the final 1024 the blue. The image is stored in row-major order, so that the first 32 entries of the array are the red channel values of the first row of the image.\n",
    "labels -- a list of 10000 numbers in the range 0-9. The number at index i indicates the label of the ith image in the array data.\n",
    "\n",
    "The dataset contains another file, called batches.meta. It too contains a Python dictionary object. It has the following entries:\n",
    "label_names -- a 10-element list which gives meaningful names to the numeric labels in the labels array described above. For example, label_names[0] == \"airplane\", label_names[1] == \"automobile\", etc.\n"
   ]
  },
  {
   "cell_type": "code",
   "execution_count": 1,
   "metadata": {},
   "outputs": [],
   "source": [
    "import numpy as np\n",
    "import torch\n",
    "import torch.nn as nn\n",
    "import torch.optim as optim\n",
    "import torch.nn.functional as F"
   ]
  },
  {
   "cell_type": "code",
   "execution_count": 2,
   "metadata": {},
   "outputs": [],
   "source": [
    "## follow the instructions on the website\n",
    "def unpickle(file):\n",
    "    ## used to read binary files since our data files are in binary format\n",
    "    import pickle\n",
    "    with open(file, 'rb') as fo:\n",
    "        dict = pickle.load(fo, encoding='bytes')\n",
    "    return dict"
   ]
  },
  {
   "cell_type": "code",
   "execution_count": 3,
   "metadata": {},
   "outputs": [],
   "source": [
    "## loading data from binary data files\n",
    "batch_1_dictionary = unpickle('cifar-10-data/data_batch_1')\n",
    "batch_2_dictionary = unpickle('cifar-10-data/data_batch_2')"
   ]
  },
  {
   "cell_type": "code",
   "execution_count": 4,
   "metadata": {},
   "outputs": [
    {
     "data": {
      "text/plain": [
       "dict_keys([b'batch_label', b'labels', b'data', b'filenames'])"
      ]
     },
     "execution_count": 4,
     "metadata": {},
     "output_type": "execute_result"
    }
   ],
   "source": [
    "batch_1_dictionary.keys()"
   ]
  },
  {
   "cell_type": "code",
   "execution_count": 5,
   "metadata": {},
   "outputs": [],
   "source": [
    "## get training, validation and testing sets\n",
    "X_train_all = np.array(batch_1_dictionary[b'data']).reshape(10000,3,32,32)\n",
    "y_train_all = np.array(batch_1_dictionary[b'labels'])\n",
    "validation_count = 1000\n",
    "train_count = X_train_all.shape[0]-1000\n",
    "X_train = X_train_all[:train_count]\n",
    "y_train = y_train_all[:train_count]\n",
    "X_val = X_train_all[train_count:]\n",
    "y_val = y_train_all[train_count:]\n",
    "X_test = np.array(batch_2_dictionary[b'data']).reshape(10000,3,32,32)\n",
    "y_test = np.array(batch_2_dictionary[b'labels'])"
   ]
  },
  {
   "cell_type": "code",
   "execution_count": 6,
   "metadata": {},
   "outputs": [
    {
     "data": {
      "text/plain": [
       "((9000, 3, 32, 32),\n",
       " (9000,),\n",
       " (1000, 3, 32, 32),\n",
       " (1000,),\n",
       " (10000, 3, 32, 32),\n",
       " (10000,))"
      ]
     },
     "execution_count": 6,
     "metadata": {},
     "output_type": "execute_result"
    }
   ],
   "source": [
    "X_train.shape, y_train.shape, X_val.shape, y_val.shape, X_test.shape, y_test.shape"
   ]
  },
  {
   "cell_type": "code",
   "execution_count": 7,
   "metadata": {},
   "outputs": [
    {
     "name": "stdout",
     "output_type": "stream",
     "text": [
      "301.19936\n"
     ]
    }
   ],
   "source": [
    "import os\n",
    "import psutil\n",
    "process = psutil.Process(os.getpid())\n",
    "print(process.memory_info().rss / 1000000)  # in bytes "
   ]
  },
  {
   "cell_type": "markdown",
   "metadata": {},
   "source": [
    "## 1.3 Preprocess Data\n",
    "Typically public datasets have some kind of data description or manual that we can use to gain basic understanding of the dataset. You should always try to look for such things and utilize them before you start processing the data. We now want to preprocess the data. \n",
    "\n",
    "We now want to do a data normalization. (Do you still remember why data normalization is important? Refer to Normalizing Input in first week of Improving Deep Neural Networks: Hyperparameter tuning, Regularization and Optimization)\n",
    "You can typically just do the minus by mean and divide by std normalization. But since we are dealing with image data, we can use another type of data normalization: simply divide by 255 to bring all features to the range (0,1).  (Think about why the number 255?) There are different ways to normalize data, feel free to try more options if you are interested. \n",
    "\n",
    "## We use 255 because the range of RGB values go from 0-255, hence why RGB values are\n",
    "## usually represented as (R,G,B) where R, G, and B are some integer between 0-255\n",
    "\n",
    "# TODO \n",
    "write your data normalization function here"
   ]
  },
  {
   "cell_type": "code",
   "execution_count": 8,
   "metadata": {},
   "outputs": [],
   "source": [
    "# for RGB data we can simply divide by 255\n",
    "X_train_normalized = X_train/255\n",
    "X_val_normalized =  X_val/255\n",
    "X_test_normalized = X_test/255\n"
   ]
  },
  {
   "cell_type": "markdown",
   "metadata": {},
   "source": [
    "## 1.4 Take a look at the data\n",
    "We can plot the image data to have a better understanding of it."
   ]
  },
  {
   "cell_type": "code",
   "execution_count": 9,
   "metadata": {},
   "outputs": [],
   "source": [
    "## class label related\n",
    "CLASSES = ['plane', 'car', 'bird', 'cat', 'deer', 'dog', 'frog', 'horse', 'ship', 'truck']\n",
    "\n",
    "def index_to_class_name(y):\n",
    "    return CLASSES[y]\n",
    "def class_name_to_index(class_name):\n",
    "    return CLASSES.index(class_name)"
   ]
  },
  {
   "cell_type": "code",
   "execution_count": 10,
   "metadata": {},
   "outputs": [],
   "source": [
    "import math\n",
    "import matplotlib.pyplot as plt\n",
    "import matplotlib.image as mpimg\n",
    "\"\"\"\n",
    "Plotting utilities, if you want to know how these work exactly, check the reference\n",
    "Or the documentations\n",
    "reference: \n",
    "https://matplotlib.org/users/image_tutorial.html\n",
    "https://stackoverflow.com/questions/46615554/how-to-display-multiple-images-in-one-figure-correctly/46616645\n",
    "\"\"\" \n",
    "\n",
    "def show_single_image(data):\n",
    "    # show a single image\n",
    "    ## note that using matplotlib plotting function, we will have to reshape the data as (1,32,32,3)\n",
    "    img = data.reshape(3,32,32).transpose(1,2,0)\n",
    "    imgplot = plt.imshow(img)\n",
    "def show_multiple_images(data, data_y, n_show=12, columns=4):\n",
    "    ## given an array of data, show all of them as images\n",
    "    fig=plt.figure(figsize=(8, 8))\n",
    "    n = min(data.shape[0], n_show)\n",
    "    rows = math.ceil(n/columns)\n",
    "    for i in range(n):\n",
    "        img = data[i].reshape(3,32,32).transpose(1,2,0)\n",
    "        ax = fig.add_subplot(rows, columns, i+1) ## subplot index starts from 1 not 0\n",
    "        class_name = index_to_class_name(data_y[i])\n",
    "        ax.set_title(str(data_y[i])+\": \"+class_name)\n",
    "        plt.imshow(img)\n",
    "    plt.show()"
   ]
  },
  {
   "cell_type": "code",
   "execution_count": 11,
   "metadata": {},
   "outputs": [
    {
     "data": {
      "image/png": "[encoded data removed]",
      "text/plain": [
       "<Figure size 576x576 with 12 Axes>"
      ]
     },
     "metadata": {
      "needs_background": "light"
     },
     "output_type": "display_data"
    }
   ],
   "source": [
    "show_multiple_images(X_train, y_train)"
   ]
  },
  {
   "cell_type": "markdown",
   "metadata": {},
   "source": [
    "## 2.1 Design Network Structure of a MLP Model\n",
    "Reference: https://pytorch.org/tutorials/beginner/blitz/neural_networks_tutorial.html\n",
    "\n",
    "When we use a multi-layer perceptron (a very basic neural net with fully connected layers), we will need to flatten the data so that the MLP can use it. Each data point in our training data is currently in the form of 1x32x32x3, we want to convert it into 1x3072, so that its shape makes sense to our MLP's input layer. Recall that in our MLP, the input size for the first layer is 3072. There are multiple ways of doing this, we can directly flatten all data points, or we can also do the flattening for each mini-batch. \n",
    "\n",
    "In terms of the loss function, since we are doing the task of multi-class classification, we will use the cross entropy loss. \n",
    "\n",
    "We will use nn.CrossEntropyLoss to compute this, refer to Pytorch doc for details. A short summary is \"this criterion combines nn.LogSoftmax() and nn.NLLLoss() in one single class\" That basically means we don't have to worry about softmax layer and the log part. Make sure you read the Pytorch doc to understand exactly how it works. \n",
    "\n",
    "# TODO\n",
    "write your network structure here\n",
    "\n",
    "1. you should only use linear layers (nn.Linear), should use 2 or more linear layers\n",
    "2. and you should use relu as activation\n",
    "3. after the final layer we DON'T HAVE activation\n",
    "4. you should not use softmax here because pytorch's BCE loss includes softmax\n",
    "5. for hidden layer size, anything between 32-256 is OK"
   ]
  },
  {
   "cell_type": "code",
   "execution_count": 12,
   "metadata": {},
   "outputs": [],
   "source": [
    "import torch\n",
    "import torch.nn as nn\n",
    "import torch.nn.functional as F\n",
    "from torch import Tensor\n",
    "import torch.optim as optim\n",
    "\n",
    "class MLP(nn.Module):\n",
    "    ## a very simple MLP model\n",
    "    def __init__(self, input_dim, output_dim):\n",
    "        super(MLP, self).__init__()\n",
    "        self.fc1 = nn.Linear(input_dim, 32)\n",
    "        self.fc2 = nn.Linear(32,output_dim)\n",
    "\n",
    "    def forward(self, x):\n",
    "        z_1 = self.fc1(x)\n",
    "        a_1 = F.relu(z_1)\n",
    "        z_2 = self.fc2(a_1)\n",
    "        return z_2"
   ]
  },
  {
   "cell_type": "code",
   "execution_count": 13,
   "metadata": {},
   "outputs": [],
   "source": [
    "# utility for getting prediction accuracy\n",
    "def get_correct_and_accuracy(y_pred, y):\n",
    "    # y_pred is the nxC prediction scores\n",
    "    # give the number of correct and the accuracy\n",
    "    n = y.shape[0]\n",
    "    # find the prediction class label\n",
    "    _ ,pred_class = y_pred.max(dim=1)\n",
    "    correct = (pred_class == y).sum().item()\n",
    "    return correct ,correct/n"
   ]
  },
  {
   "cell_type": "markdown",
   "metadata": {},
   "source": [
    "## 2.2 Training the MLP model\n",
    "1. We first initialize the neural network, and also the optimizer and the criterion (loss function)\n",
    "2. We then convert data into correct tensor form (note for MLP we need to flatten the image data, from 3x32x32 to 3072)\n",
    "3. We then start doing training iterations\n",
    "\n",
    "# TODO \n",
    "write code here \n",
    "1. init your model\n",
    "2. use Adam optimizer, with lr=1e-3\n",
    "3. use cross entropy criterion\n",
    "4. for X_train, X_val, cast to Tensor and then reshape them to flatten them (change shape to mx3072)\n",
    "5. for y_train, y_val, cast to Tensor and then cast to type long\n",
    "6. simply do 100 iterations"
   ]
  },
  {
   "cell_type": "code",
   "execution_count": 14,
   "metadata": {
    "scrolled": true
   },
   "outputs": [
    {
     "name": "stdout",
     "output_type": "stream",
     "text": [
      "model structure:  MLP(\n",
      "  (fc1): Linear(in_features=3072, out_features=32, bias=True)\n",
      "  (fc2): Linear(in_features=32, out_features=10, bias=True)\n",
      ")\n",
      "36\n",
      "4\n",
      "torch.Size([9000, 3072])\n",
      "torch.Size([1000, 3072])\n",
      "torch.Size([10000, 3072])\n"
     ]
    }
   ],
   "source": [
    "# init network\n",
    "mlp = MLP(3072, 10)\n",
    "print('model structure: ',mlp)\n",
    "# init optimizer\n",
    "optimizer = optim.Adam(mlp.parameters(), lr= 1e-3) #lr = 1e-1 <==> learning rate = 0.001\n",
    "\n",
    "# set loss function\n",
    "criterion = nn.CrossEntropyLoss()\n",
    "\n",
    "# prepare for mini-batch stochastic gradient descent\n",
    "n_iteration = 100\n",
    "batch_size = 256\n",
    "n_train_data = X_train_normalized.shape[0]\n",
    "n_val_data = X_val_normalized.shape[0]\n",
    "n_test_data = X_test_normalized.shape[0]\n",
    "\n",
    "\n",
    "n_batch = int(np.ceil(n_train_data/batch_size))\n",
    "n_batch_val = int(np.ceil(n_val_data/batch_size))\n",
    "\n",
    "print(n_batch)\n",
    "print(n_batch_val)\n",
    "# convert X_train and X_val to tensor and flatten them\n",
    "X_train_tensor = Tensor(X_train_normalized).reshape(n_train_data,-1)\n",
    "print(X_train_tensor.shape)\n",
    "\n",
    "X_val_tensor = Tensor(X_val_normalized).reshape(n_val_data,-1)\n",
    "print(X_val_tensor.shape)\n",
    "\n",
    "X_test_tensor = Tensor(X_test_normalized).reshape(n_test_data,-1)\n",
    "print(X_test_tensor.shape)\n",
    "\n",
    "# convert training label to tensor and to type long\n",
    "y_train_tensor = Tensor(y_train).long()\n",
    "y_val_tensor = Tensor(y_val).long()\n",
    "y_test_tensor = Tensor(y_test).long()\n"
   ]
  },
  {
   "cell_type": "markdown",
   "metadata": {},
   "source": [
    "# TODO\n",
    "1. Here you will have to write training code \n",
    "2. As well as code to log the training process for later plotting\n",
    "3. After each iteration through training data, you should use that print function to log you current training process"
   ]
  },
  {
   "cell_type": "code",
   "execution_count": 15,
   "metadata": {
    "scrolled": true
   },
   "outputs": [
    {
     "name": "stdout",
     "output_type": "stream",
     "text": [
      "Iter 0 ,Train loss: 2.268, Train acc: 0.155, Val loss: 2.229, Val acc: 0.173\n",
      "Iter 1 ,Train loss: 2.261, Train acc: 0.185, Val loss: 2.174, Val acc: 0.182\n",
      "Iter 2 ,Train loss: 2.213, Train acc: 0.200, Val loss: 2.130, Val acc: 0.182\n",
      "Iter 3 ,Train loss: 2.176, Train acc: 0.225, Val loss: 2.097, Val acc: 0.211\n",
      "Iter 4 ,Train loss: 2.148, Train acc: 0.241, Val loss: 2.071, Val acc: 0.223\n",
      "Iter 5 ,Train loss: 2.126, Train acc: 0.248, Val loss: 2.051, Val acc: 0.234\n",
      "Iter 6 ,Train loss: 2.109, Train acc: 0.252, Val loss: 2.035, Val acc: 0.235\n",
      "Iter 7 ,Train loss: 2.095, Train acc: 0.253, Val loss: 2.023, Val acc: 0.238\n",
      "Iter 8 ,Train loss: 2.083, Train acc: 0.254, Val loss: 2.014, Val acc: 0.239\n",
      "Iter 9 ,Train loss: 2.074, Train acc: 0.255, Val loss: 2.005, Val acc: 0.245\n",
      "Iter 10 ,Train loss: 2.065, Train acc: 0.256, Val loss: 1.998, Val acc: 0.241\n",
      "Iter 11 ,Train loss: 2.058, Train acc: 0.258, Val loss: 1.991, Val acc: 0.242\n",
      "Iter 12 ,Train loss: 2.051, Train acc: 0.259, Val loss: 1.986, Val acc: 0.247\n",
      "Iter 13 ,Train loss: 2.045, Train acc: 0.260, Val loss: 1.981, Val acc: 0.249\n",
      "Iter 14 ,Train loss: 2.039, Train acc: 0.260, Val loss: 1.976, Val acc: 0.254\n",
      "Iter 15 ,Train loss: 2.034, Train acc: 0.261, Val loss: 1.973, Val acc: 0.256\n",
      "Iter 16 ,Train loss: 2.030, Train acc: 0.262, Val loss: 1.968, Val acc: 0.261\n",
      "Iter 17 ,Train loss: 2.025, Train acc: 0.264, Val loss: 1.965, Val acc: 0.259\n",
      "Iter 18 ,Train loss: 2.021, Train acc: 0.265, Val loss: 1.961, Val acc: 0.261\n",
      "Iter 19 ,Train loss: 2.017, Train acc: 0.268, Val loss: 1.957, Val acc: 0.266\n",
      "Iter 20 ,Train loss: 2.013, Train acc: 0.269, Val loss: 1.955, Val acc: 0.267\n",
      "Iter 21 ,Train loss: 2.010, Train acc: 0.268, Val loss: 1.953, Val acc: 0.267\n",
      "Iter 22 ,Train loss: 2.006, Train acc: 0.268, Val loss: 1.951, Val acc: 0.267\n",
      "Iter 23 ,Train loss: 2.003, Train acc: 0.268, Val loss: 1.948, Val acc: 0.269\n",
      "Iter 24 ,Train loss: 2.001, Train acc: 0.268, Val loss: 1.946, Val acc: 0.270\n",
      "Iter 25 ,Train loss: 1.998, Train acc: 0.269, Val loss: 1.945, Val acc: 0.273\n",
      "Iter 26 ,Train loss: 1.995, Train acc: 0.269, Val loss: 1.944, Val acc: 0.272\n",
      "Iter 27 ,Train loss: 1.993, Train acc: 0.270, Val loss: 1.941, Val acc: 0.271\n",
      "Iter 28 ,Train loss: 1.991, Train acc: 0.270, Val loss: 1.941, Val acc: 0.271\n",
      "Iter 29 ,Train loss: 1.988, Train acc: 0.271, Val loss: 1.938, Val acc: 0.272\n",
      "Iter 30 ,Train loss: 1.986, Train acc: 0.272, Val loss: 1.936, Val acc: 0.271\n",
      "Iter 31 ,Train loss: 1.984, Train acc: 0.273, Val loss: 1.935, Val acc: 0.272\n",
      "Iter 32 ,Train loss: 1.982, Train acc: 0.272, Val loss: 1.933, Val acc: 0.272\n",
      "Iter 33 ,Train loss: 1.981, Train acc: 0.273, Val loss: 1.932, Val acc: 0.272\n",
      "Iter 34 ,Train loss: 1.979, Train acc: 0.273, Val loss: 1.932, Val acc: 0.274\n",
      "Iter 35 ,Train loss: 1.977, Train acc: 0.274, Val loss: 1.931, Val acc: 0.277\n",
      "Iter 36 ,Train loss: 1.976, Train acc: 0.275, Val loss: 1.930, Val acc: 0.279\n",
      "Iter 37 ,Train loss: 1.974, Train acc: 0.274, Val loss: 1.930, Val acc: 0.277\n",
      "Iter 38 ,Train loss: 1.973, Train acc: 0.276, Val loss: 1.929, Val acc: 0.279\n",
      "Iter 39 ,Train loss: 1.971, Train acc: 0.276, Val loss: 1.930, Val acc: 0.275\n",
      "Iter 40 ,Train loss: 1.970, Train acc: 0.278, Val loss: 1.929, Val acc: 0.277\n",
      "Iter 41 ,Train loss: 1.969, Train acc: 0.278, Val loss: 1.930, Val acc: 0.270\n",
      "Iter 42 ,Train loss: 1.968, Train acc: 0.278, Val loss: 1.930, Val acc: 0.273\n",
      "Iter 43 ,Train loss: 1.967, Train acc: 0.278, Val loss: 1.930, Val acc: 0.274\n",
      "Iter 44 ,Train loss: 1.966, Train acc: 0.278, Val loss: 1.930, Val acc: 0.275\n",
      "Iter 45 ,Train loss: 1.965, Train acc: 0.278, Val loss: 1.930, Val acc: 0.276\n",
      "Iter 46 ,Train loss: 1.964, Train acc: 0.278, Val loss: 1.931, Val acc: 0.274\n",
      "Iter 47 ,Train loss: 1.963, Train acc: 0.278, Val loss: 1.930, Val acc: 0.273\n",
      "Iter 48 ,Train loss: 1.962, Train acc: 0.278, Val loss: 1.930, Val acc: 0.273\n",
      "Iter 49 ,Train loss: 1.961, Train acc: 0.278, Val loss: 1.930, Val acc: 0.272\n",
      "Iter 50 ,Train loss: 1.960, Train acc: 0.278, Val loss: 1.928, Val acc: 0.275\n",
      "Iter 51 ,Train loss: 1.959, Train acc: 0.278, Val loss: 1.929, Val acc: 0.272\n",
      "Iter 52 ,Train loss: 1.958, Train acc: 0.277, Val loss: 1.929, Val acc: 0.274\n",
      "Iter 53 ,Train loss: 1.957, Train acc: 0.277, Val loss: 1.928, Val acc: 0.275\n",
      "Iter 54 ,Train loss: 1.956, Train acc: 0.278, Val loss: 1.928, Val acc: 0.276\n",
      "Iter 55 ,Train loss: 1.955, Train acc: 0.278, Val loss: 1.928, Val acc: 0.276\n",
      "Iter 56 ,Train loss: 1.955, Train acc: 0.278, Val loss: 1.929, Val acc: 0.275\n",
      "Iter 57 ,Train loss: 1.954, Train acc: 0.279, Val loss: 1.930, Val acc: 0.273\n",
      "Iter 58 ,Train loss: 1.953, Train acc: 0.278, Val loss: 1.929, Val acc: 0.273\n",
      "Iter 59 ,Train loss: 1.952, Train acc: 0.278, Val loss: 1.929, Val acc: 0.270\n",
      "Iter 60 ,Train loss: 1.952, Train acc: 0.277, Val loss: 1.931, Val acc: 0.269\n",
      "Iter 61 ,Train loss: 1.951, Train acc: 0.278, Val loss: 1.929, Val acc: 0.268\n",
      "Iter 62 ,Train loss: 1.950, Train acc: 0.278, Val loss: 1.932, Val acc: 0.264\n",
      "Iter 63 ,Train loss: 1.949, Train acc: 0.278, Val loss: 1.932, Val acc: 0.265\n",
      "Iter 64 ,Train loss: 1.949, Train acc: 0.278, Val loss: 1.934, Val acc: 0.262\n",
      "Iter 65 ,Train loss: 1.948, Train acc: 0.278, Val loss: 1.934, Val acc: 0.261\n",
      "Iter 66 ,Train loss: 1.947, Train acc: 0.278, Val loss: 1.934, Val acc: 0.265\n",
      "Iter 67 ,Train loss: 1.947, Train acc: 0.279, Val loss: 1.936, Val acc: 0.267\n",
      "Iter 68 ,Train loss: 1.946, Train acc: 0.279, Val loss: 1.936, Val acc: 0.267\n",
      "Iter 69 ,Train loss: 1.945, Train acc: 0.281, Val loss: 1.937, Val acc: 0.267\n",
      "Iter 70 ,Train loss: 1.945, Train acc: 0.281, Val loss: 1.936, Val acc: 0.269\n",
      "Iter 71 ,Train loss: 1.944, Train acc: 0.282, Val loss: 1.936, Val acc: 0.268\n",
      "Iter 72 ,Train loss: 1.943, Train acc: 0.282, Val loss: 1.936, Val acc: 0.268\n",
      "Iter 73 ,Train loss: 1.943, Train acc: 0.283, Val loss: 1.937, Val acc: 0.265\n",
      "Iter 74 ,Train loss: 1.942, Train acc: 0.284, Val loss: 1.938, Val acc: 0.264\n",
      "Iter 75 ,Train loss: 1.941, Train acc: 0.285, Val loss: 1.939, Val acc: 0.264\n",
      "Iter 76 ,Train loss: 1.941, Train acc: 0.285, Val loss: 1.940, Val acc: 0.265\n",
      "Iter 77 ,Train loss: 1.940, Train acc: 0.286, Val loss: 1.939, Val acc: 0.266\n",
      "Iter 78 ,Train loss: 1.940, Train acc: 0.286, Val loss: 1.939, Val acc: 0.266\n",
      "Iter 79 ,Train loss: 1.939, Train acc: 0.287, Val loss: 1.942, Val acc: 0.265\n",
      "Iter 80 ,Train loss: 1.939, Train acc: 0.286, Val loss: 1.939, Val acc: 0.266\n",
      "Iter 81 ,Train loss: 1.938, Train acc: 0.286, Val loss: 1.941, Val acc: 0.265\n",
      "Iter 82 ,Train loss: 1.938, Train acc: 0.287, Val loss: 1.938, Val acc: 0.265\n",
      "Iter 83 ,Train loss: 1.937, Train acc: 0.288, Val loss: 1.940, Val acc: 0.265\n",
      "Iter 84 ,Train loss: 1.936, Train acc: 0.288, Val loss: 1.939, Val acc: 0.266\n",
      "Iter 85 ,Train loss: 1.936, Train acc: 0.288, Val loss: 1.937, Val acc: 0.266\n",
      "Iter 86 ,Train loss: 1.935, Train acc: 0.289, Val loss: 1.939, Val acc: 0.266\n",
      "Iter 87 ,Train loss: 1.935, Train acc: 0.288, Val loss: 1.937, Val acc: 0.267\n",
      "Iter 88 ,Train loss: 1.934, Train acc: 0.289, Val loss: 1.939, Val acc: 0.265\n",
      "Iter 89 ,Train loss: 1.934, Train acc: 0.288, Val loss: 1.938, Val acc: 0.265\n",
      "Iter 90 ,Train loss: 1.933, Train acc: 0.290, Val loss: 1.935, Val acc: 0.271\n",
      "Iter 91 ,Train loss: 1.932, Train acc: 0.290, Val loss: 1.936, Val acc: 0.269\n",
      "Iter 92 ,Train loss: 1.931, Train acc: 0.289, Val loss: 1.936, Val acc: 0.268\n",
      "Iter 93 ,Train loss: 1.931, Train acc: 0.290, Val loss: 1.935, Val acc: 0.269\n",
      "Iter 94 ,Train loss: 1.930, Train acc: 0.290, Val loss: 1.934, Val acc: 0.270\n",
      "Iter 95 ,Train loss: 1.930, Train acc: 0.290, Val loss: 1.934, Val acc: 0.268\n",
      "Iter 96 ,Train loss: 1.929, Train acc: 0.290, Val loss: 1.933, Val acc: 0.269\n",
      "Iter 97 ,Train loss: 1.929, Train acc: 0.291, Val loss: 1.934, Val acc: 0.269\n",
      "Iter 98 ,Train loss: 1.928, Train acc: 0.291, Val loss: 1.934, Val acc: 0.268\n",
      "Iter 99 ,Train loss: 1.928, Train acc: 0.290, Val loss: 1.933, Val acc: 0.269\n"
     ]
    }
   ],
   "source": [
    "## start \n",
    "train_loss_list = np.zeros(n_iteration)\n",
    "train_accu_list = np.zeros(n_iteration)\n",
    "val_loss_list = np.zeros(n_iteration)\n",
    "val_accu_list = np.zeros(n_iteration)\n",
    "\n",
    "train_accu = 0\n",
    "val_accu = 0\n",
    "ave_train_loss = 0\n",
    "ave_val_loss = 0\n",
    "\n",
    "for i in range(n_iteration):\n",
    "    # first get a minibatch of data\n",
    "    for j in range(n_batch):\n",
    "        batch_start_index = j*batch_size\n",
    "        # get data batch from the normalized data\n",
    "        X_batch = X_train_tensor[batch_start_index:batch_start_index+batch_size]\n",
    "        # get ground truth label y\n",
    "        y_batch = y_train_tensor[batch_start_index:batch_start_index+batch_size]\n",
    "\n",
    "        y_pred = mlp.forward(X_batch)\n",
    "        train_loss = criterion(y_pred, y_batch)\n",
    "        \n",
    "        optimizer.zero_grad()\n",
    "        train_loss.backward()\n",
    "        optimizer.step()\n",
    "        \n",
    "        numCorrect, iter_accu = get_correct_and_accuracy(y_pred,y_batch)\n",
    "        \n",
    "        train_accu += iter_accu\n",
    "        ave_train_loss += train_loss.item()\n",
    "  \n",
    "    train_accu /= n_batch\n",
    "    ave_train_loss /= n_batch\n",
    "    \n",
    "    val_pred = mlp.forward(X_val_tensor)\n",
    "    val_loss = criterion(val_pred, y_val_tensor)\n",
    "    optimizer.zero_grad()\n",
    "    val_loss.backward()\n",
    "    optimizer.step()\n",
    "    correct, val_accu = get_correct_and_accuracy(val_pred,y_val_tensor)\n",
    "    \n",
    "    print(\"Iter %d ,Train loss: %.3f, Train acc: %.3f, Val loss: %.3f, Val acc: %.3f\" \n",
    "          %(i ,ave_train_loss, train_accu, val_loss, val_accu)) \n",
    "    \n",
    "    ## add to the logs so that we can use them later for plotting\n",
    "    train_loss_list[i] = ave_train_loss\n",
    "    train_accu_list[i] = train_accu\n",
    "    val_loss_list[i] = val_loss\n",
    "    val_accu_list[i] = val_accu\n",
    "    "
   ]
  },
  {
   "cell_type": "markdown",
   "metadata": {},
   "source": [
    "## 2.3 Plotting training process\n",
    "We want to first plot training loss versus validation loss, then plot training accuracy, validation accuracy.\n",
    "\n",
    "# TODO\n",
    "run the plotting functions"
   ]
  },
  {
   "cell_type": "code",
   "execution_count": 16,
   "metadata": {},
   "outputs": [
    {
     "data": {
      "image/png": "[encoded data removed]",
      "text/plain": [
       "<Figure size 432x288 with 1 Axes>"
      ]
     },
     "metadata": {
      "needs_background": "light"
     },
     "output_type": "display_data"
    }
   ],
   "source": [
    "## plot training loss versus validation loss\n",
    "x_axis = np.arange(n_iteration)\n",
    "plt.plot(x_axis, train_loss_list, label='train loss')\n",
    "plt.plot(x_axis, val_loss_list, label='val loss')\n",
    "plt.legend()\n",
    "plt.show()"
   ]
  },
  {
   "cell_type": "code",
   "execution_count": 17,
   "metadata": {},
   "outputs": [
    {
     "data": {
      "image/png": "[encoded data removed]",
      "text/plain": [
       "<Figure size 432x288 with 1 Axes>"
      ]
     },
     "metadata": {
      "needs_background": "light"
     },
     "output_type": "display_data"
    }
   ],
   "source": [
    "## plot training accuracy versus validation accuracy\n",
    "plt.plot(x_axis, train_accu_list, label='train acc')\n",
    "plt.plot(x_axis, val_accu_list, label='val acc')\n",
    "plt.legend()\n",
    "plt.show()"
   ]
  },
  {
   "cell_type": "markdown",
   "metadata": {},
   "source": [
    "## 2.4 Report testing performance\n",
    "We want run the trained model on test data to see how well it does\n",
    "\n",
    "# TODO\n",
    "write code here to report test accuracy on the 10000 test data"
   ]
  },
  {
   "cell_type": "code",
   "execution_count": 18,
   "metadata": {},
   "outputs": [
    {
     "name": "stdout",
     "output_type": "stream",
     "text": [
      "Test accuracy:  0.2472\n"
     ]
    }
   ],
   "source": [
    "## test performance on the test set and report final performance\n",
    "test_pred = mlp.forward(X_test_tensor)\n",
    "test_loss = criterion(test_pred, y_test_tensor)\n",
    "optimizer.zero_grad()\n",
    "test_loss.backward()\n",
    "optimizer.step()\n",
    "correct, test_accu = get_correct_and_accuracy(test_pred,y_test_tensor)\n",
    "    \n",
    "print(\"Test accuracy: \", test_accu)"
   ]
  },
  {
   "cell_type": "markdown",
   "metadata": {},
   "source": [
    "## 3.1 Now we design a convolutional network\n",
    "Check pytorch documentation for usage of each layer\n",
    "\n",
    "# TODO\n",
    "write network structure here\n",
    "you should do:\n",
    "1. use at least 2 conv layer\n",
    "2. at least 1 maxpool layer\n",
    "3. at least 2 linear layer at the end"
   ]
  },
  {
   "cell_type": "code",
   "execution_count": 19,
   "metadata": {},
   "outputs": [],
   "source": [
    "class ConvNet(nn.Module):\n",
    "    def __init__(self):\n",
    "        super(ConvNet, self).__init__()\n",
    "        self.conv1 = nn.Conv2d(3, 6, 5)\n",
    "        self.pool = nn.MaxPool2d(2, 2)\n",
    "        self.conv2 = nn.Conv2d(6, 16, 5)\n",
    "        self.fc1 = nn.Linear(16 * 5 * 5, 120)\n",
    "        self.fc2 = nn.Linear(120, 84)\n",
    "        self.fc3 = nn.Linear(84, 10)\n",
    "\n",
    "    def forward(self, x):\n",
    "        x = self.pool(F.relu(self.conv1(x)))\n",
    "        x = self.pool(F.relu(self.conv2(x)))\n",
    "        x = x.view(-1, 16 * 5 * 5)\n",
    "        x = F.relu(self.fc1(x))\n",
    "        x = F.relu(self.fc2(x))\n",
    "        x = self.fc3(x)\n",
    "        \n",
    "        return x"
   ]
  },
  {
   "cell_type": "code",
   "execution_count": 20,
   "metadata": {},
   "outputs": [],
   "source": [
    "from torch import Tensor\n"
   ]
  },
  {
   "cell_type": "markdown",
   "metadata": {},
   "source": [
    "## 3.2 Training the Convolutional Net model\n",
    "1. We first initialize the neural network, and also the optimizer and the criterion (loss function)\n",
    "2. We then convert data into correct tensor form\n",
    "3. We then start doing training iterations\n",
    "\n",
    "# TODO \n",
    "write code here \n",
    "1. init your model\n",
    "2. use Adam optimizer, with lr=1e-3\n",
    "3. use cross entropy criterion\n",
    "4. for X_train, X_val, cast to Tensor \n",
    "5. for y_train, y_val, cast to Tensor and then cast to type long\n",
    "6. simply do 40 iterations"
   ]
  },
  {
   "cell_type": "code",
   "execution_count": 21,
   "metadata": {},
   "outputs": [
    {
     "name": "stdout",
     "output_type": "stream",
     "text": [
      "model structure:  ConvNet(\n",
      "  (conv1): Conv2d(3, 6, kernel_size=(5, 5), stride=(1, 1))\n",
      "  (pool): MaxPool2d(kernel_size=2, stride=2, padding=0, dilation=1, ceil_mode=False)\n",
      "  (conv2): Conv2d(6, 16, kernel_size=(5, 5), stride=(1, 1))\n",
      "  (fc1): Linear(in_features=400, out_features=120, bias=True)\n",
      "  (fc2): Linear(in_features=120, out_features=84, bias=True)\n",
      "  (fc3): Linear(in_features=84, out_features=10, bias=True)\n",
      ")\n",
      "X train tensor shape: torch.Size([9000, 3, 32, 32])\n"
     ]
    }
   ],
   "source": [
    "# init network\n",
    "conv_net = ConvNet()\n",
    "print('model structure: ', conv_net)\n",
    "# init optimizer\n",
    "optimizer = optim.Adam(conv_net.parameters(), lr= 1e-3) #lr = 1e-1 <==> learning rate = 0.001\n",
    "\n",
    "# set loss function\n",
    "criterion = nn.CrossEntropyLoss()\n",
    "\n",
    "# prepare for mini-batch stochastic gradient descent\n",
    "n_iteration = 40\n",
    "batch_size = 256\n",
    "n_data = X_train_normalized.shape[0]\n",
    "n_batch = int(np.ceil(n_data/batch_size))\n",
    "\n",
    "# convert X_train and X_val to tensor and flatten them\n",
    "X_train_tensor = Tensor(X_train_normalized)\n",
    "X_val_tensor = Tensor(X_val_normalized)\n",
    "X_test_tensor = Tensor(X_test_normalized)\n",
    "\n",
    "# convert training label to tensor and to type long\n",
    "y_train_tensor = Tensor(y_train).long()\n",
    "y_val_tensor = Tensor(y_val).long()\n",
    "y_test_tensor = Tensor(y_val).long()\n",
    "\n",
    "print('X train tensor shape:', X_train_tensor.shape)\n",
    "print('X test tensor shape:', X_test_tensor.shape)\n",
    "print('Y test tensor shape:', y_test_tensor.shape)"
   ]
  },
  {
   "cell_type": "code",
   "execution_count": 22,
   "metadata": {},
   "outputs": [
    {
     "name": "stdout",
     "output_type": "stream",
     "text": [
      "1177.550848\n"
     ]
    }
   ],
   "source": [
    "import os\n",
    "import psutil\n",
    "process = psutil.Process(os.getpid())\n",
    "print(process.memory_info().rss / 1000000)  # in bytes "
   ]
  },
  {
   "cell_type": "markdown",
   "metadata": {},
   "source": [
    "# TODO\n",
    "1. Here you will have to write training code \n",
    "2. As well as code to log the training process for later plotting\n",
    "3. After each iteration through training data, you should use that print function to log you current training process"
   ]
  },
  {
   "cell_type": "code",
   "execution_count": 23,
   "metadata": {
    "scrolled": true
   },
   "outputs": [
    {
     "name": "stdout",
     "output_type": "stream",
     "text": [
      "0 1132.265472\n",
      "Iter 0 ,Train loss: 2.243, Train acc: 0.149, Val loss: 2.084, Val acc: 0.252\n",
      "1 1162.350592\n",
      "Iter 1 ,Train loss: 2.121, Train acc: 0.236, Val loss: 1.992, Val acc: 0.254\n",
      "2 1162.36288\n",
      "Iter 2 ,Train loss: 2.038, Train acc: 0.275, Val loss: 1.950, Val acc: 0.274\n",
      "3 1168.592896\n",
      "Iter 3 ,Train loss: 1.977, Train acc: 0.301, Val loss: 1.895, Val acc: 0.300\n",
      "4 1168.87552\n",
      "Iter 4 ,Train loss: 1.902, Train acc: 0.341, Val loss: 1.805, Val acc: 0.343\n",
      "5 1168.887808\n",
      "Iter 5 ,Train loss: 1.822, Train acc: 0.369, Val loss: 1.743, Val acc: 0.366\n",
      "6 1168.62976\n",
      "Iter 6 ,Train loss: 1.754, Train acc: 0.388, Val loss: 1.701, Val acc: 0.384\n",
      "7 1181.077504\n",
      "Iter 7 ,Train loss: 1.702, Train acc: 0.408, Val loss: 1.664, Val acc: 0.391\n",
      "8 1181.360128\n",
      "Iter 8 ,Train loss: 1.660, Train acc: 0.431, Val loss: 1.636, Val acc: 0.408\n",
      "9 1181.10208\n",
      "Iter 9 ,Train loss: 1.630, Train acc: 0.444, Val loss: 1.610, Val acc: 0.410\n",
      "10 1181.114368\n",
      "Iter 10 ,Train loss: 1.612, Train acc: 0.451, Val loss: 1.597, Val acc: 0.407\n",
      "11 1181.396992\n",
      "Iter 11 ,Train loss: 1.578, Train acc: 0.460, Val loss: 1.573, Val acc: 0.420\n",
      "12 1181.40928\n",
      "Iter 12 ,Train loss: 1.562, Train acc: 0.464, Val loss: 1.561, Val acc: 0.421\n",
      "13 1181.151232\n",
      "Iter 13 ,Train loss: 1.542, Train acc: 0.474, Val loss: 1.546, Val acc: 0.436\n",
      "14 1181.16352\n",
      "Iter 14 ,Train loss: 1.525, Train acc: 0.480, Val loss: 1.535, Val acc: 0.435\n",
      "15 1181.446144\n",
      "Iter 15 ,Train loss: 1.509, Train acc: 0.485, Val loss: 1.525, Val acc: 0.442\n",
      "16 1181.188096\n",
      "Iter 16 ,Train loss: 1.494, Train acc: 0.494, Val loss: 1.511, Val acc: 0.452\n",
      "17 1181.200384\n",
      "Iter 17 ,Train loss: 1.478, Train acc: 0.499, Val loss: 1.497, Val acc: 0.453\n",
      "18 1181.212672\n",
      "Iter 18 ,Train loss: 1.463, Train acc: 0.505, Val loss: 1.485, Val acc: 0.457\n",
      "19 1181.22496\n",
      "Iter 19 ,Train loss: 1.448, Train acc: 0.508, Val loss: 1.478, Val acc: 0.461\n",
      "20 1181.237248\n",
      "Iter 20 ,Train loss: 1.433, Train acc: 0.512, Val loss: 1.471, Val acc: 0.465\n",
      "21 1181.249536\n",
      "Iter 21 ,Train loss: 1.418, Train acc: 0.518, Val loss: 1.459, Val acc: 0.475\n",
      "22 1181.53216\n",
      "Iter 22 ,Train loss: 1.404, Train acc: 0.522, Val loss: 1.453, Val acc: 0.477\n",
      "23 1181.274112\n",
      "Iter 23 ,Train loss: 1.390, Train acc: 0.528, Val loss: 1.445, Val acc: 0.483\n",
      "24 1181.2864\n",
      "Iter 24 ,Train loss: 1.376, Train acc: 0.533, Val loss: 1.438, Val acc: 0.485\n",
      "25 1181.298688\n",
      "Iter 25 ,Train loss: 1.361, Train acc: 0.540, Val loss: 1.432, Val acc: 0.489\n",
      "26 1181.310976\n",
      "Iter 26 ,Train loss: 1.347, Train acc: 0.544, Val loss: 1.420, Val acc: 0.491\n",
      "27 1181.323264\n",
      "Iter 27 ,Train loss: 1.333, Train acc: 0.547, Val loss: 1.413, Val acc: 0.497\n",
      "28 1181.335552\n",
      "Iter 28 ,Train loss: 1.318, Train acc: 0.551, Val loss: 1.399, Val acc: 0.503\n",
      "29 1181.077504\n",
      "Iter 29 ,Train loss: 1.303, Train acc: 0.558, Val loss: 1.395, Val acc: 0.511\n",
      "30 1181.360128\n",
      "Iter 30 ,Train loss: 1.290, Train acc: 0.563, Val loss: 1.389, Val acc: 0.516\n",
      "31 1181.372416\n",
      "Iter 31 ,Train loss: 1.274, Train acc: 0.569, Val loss: 1.386, Val acc: 0.518\n",
      "32 1181.384704\n",
      "Iter 32 ,Train loss: 1.259, Train acc: 0.573, Val loss: 1.381, Val acc: 0.527\n",
      "33 1181.396992\n",
      "Iter 33 ,Train loss: 1.246, Train acc: 0.579, Val loss: 1.373, Val acc: 0.531\n",
      "34 1186.004992\n",
      "Iter 34 ,Train loss: 1.231, Train acc: 0.585, Val loss: 1.367, Val acc: 0.533\n",
      "35 1186.01728\n",
      "Iter 35 ,Train loss: 1.218, Train acc: 0.590, Val loss: 1.362, Val acc: 0.529\n",
      "36 1186.029568\n",
      "Iter 36 ,Train loss: 1.204, Train acc: 0.594, Val loss: 1.357, Val acc: 0.536\n",
      "37 1186.041856\n",
      "Iter 37 ,Train loss: 1.193, Train acc: 0.598, Val loss: 1.353, Val acc: 0.537\n",
      "38 1186.054144\n",
      "Iter 38 ,Train loss: 1.180, Train acc: 0.602, Val loss: 1.345, Val acc: 0.539\n",
      "39 1190.662144\n",
      "Iter 39 ,Train loss: 1.170, Train acc: 0.603, Val loss: 1.344, Val acc: 0.540\n"
     ]
    }
   ],
   "source": [
    "## start \n",
    "train_loss_list = np.zeros(n_iteration)\n",
    "train_accu_list = np.zeros(n_iteration)\n",
    "val_loss_list = np.zeros(n_iteration)\n",
    "val_accu_list = np.zeros(n_iteration)\n",
    "\n",
    "train_accu = 0\n",
    "val_accu = 0\n",
    "ave_train_loss = 0\n",
    "val_loss = 0\n",
    "\n",
    "for i in range(n_iteration):\n",
    "    # first get a minibatch of data\n",
    "    for j in range(n_batch):\n",
    "        batch_start_index = j*batch_size\n",
    "        # get data batch from the normalized data\n",
    "        X_batch = X_train_tensor[batch_start_index:batch_start_index+batch_size]\n",
    "        # get ground truth label y\n",
    "        y_batch = y_train_tensor[batch_start_index:batch_start_index+batch_size]\n",
    "    \n",
    "        y_pred_train = conv_net.forward(X_batch)\n",
    "        train_loss = criterion(y_pred_train, y_batch)\n",
    "    \n",
    "        optimizer.zero_grad()\n",
    "        train_loss.backward()\n",
    "        optimizer.step()\n",
    "    \n",
    "        numCorrect, iter_accu = get_correct_and_accuracy(y_pred_train, y_batch)\n",
    "\n",
    "        train_accu += iter_accu\n",
    "        ave_train_loss += train_loss.item()\n",
    "        \n",
    "    process = psutil.Process(os.getpid())\n",
    "    print(i, process.memory_info().rss / 1000000)  # in bytes \n",
    "    \n",
    "    train_accu /= n_batch\n",
    "    ave_train_loss /= n_batch\n",
    "    \n",
    "    val_pred = conv_net.forward(X_val_tensor)\n",
    "    val_loss = criterion(val_pred, y_val_tensor)\n",
    "    optimizer.zero_grad()\n",
    "    val_loss.backward()\n",
    "    optimizer.step()\n",
    "    correct, val_accu = get_correct_and_accuracy(val_pred,y_val_tensor)\n",
    "    \n",
    "    print(\"Iter %d ,Train loss: %.3f, Train acc: %.3f, Val loss: %.3f, Val acc: %.3f\" \n",
    "          %(i ,ave_train_loss, train_accu, val_loss, val_accu)) \n",
    "    ## add to the logs so that we can use them later for plotting\n",
    "    train_loss_list[i] = ave_train_loss\n",
    "    train_accu_list[i] = train_accu\n",
    "    val_loss_list[i] = val_loss.item()\n",
    "    val_accu_list[i] = val_accu"
   ]
  },
  {
   "cell_type": "markdown",
   "metadata": {},
   "source": [
    "## 3.3 Plotting training process\n",
    "We want to first plot training loss versus validation loss, then plot training accuracy, validation accuracy.\n",
    "\n",
    "# TODO \n",
    "run the code here for plotting"
   ]
  },
  {
   "cell_type": "code",
   "execution_count": 26,
   "metadata": {},
   "outputs": [
    {
     "data": {
      "image/png": "[encoded data removed]",
      "text/plain": [
       "<Figure size 432x288 with 1 Axes>"
      ]
     },
     "metadata": {
      "needs_background": "light"
     },
     "output_type": "display_data"
    }
   ],
   "source": [
    "## plot training loss versus validation loss\n",
    "x_axis = np.arange(n_iteration)\n",
    "plt.plot(x_axis, train_loss_list, label='train loss')\n",
    "plt.plot(x_axis, val_loss_list, label='val loss')\n",
    "plt.legend()\n",
    "plt.show()"
   ]
  },
  {
   "cell_type": "code",
   "execution_count": 27,
   "metadata": {},
   "outputs": [
    {
     "data": {
      "image/png": "[encoded data removed]",
      "text/plain": [
       "<Figure size 432x288 with 1 Axes>"
      ]
     },
     "metadata": {
      "needs_background": "light"
     },
     "output_type": "display_data"
    }
   ],
   "source": [
    "## plot training accuracy versus validation accuracy\n",
    "plt.plot(x_axis, train_accu_list, label='train acc')\n",
    "plt.plot(x_axis, val_accu_list, label='val acc')\n",
    "plt.legend()\n",
    "plt.show()"
   ]
  },
  {
   "cell_type": "markdown",
   "metadata": {},
   "source": [
    "## 3.4 Report testing performance\n",
    "We want run the trained model on test data to see how well it does\n",
    "\n",
    "# TODO\n",
    "write code here to report test accuracy on the 10000 test data"
   ]
  },
  {
   "cell_type": "code",
   "execution_count": 28,
   "metadata": {},
   "outputs": [
    {
     "ename": "ValueError",
     "evalue": "Expected input batch_size (10000) to match target batch_size (1000).",
     "output_type": "error",
     "traceback": [
      "\u001b[0;31m---------------------------------------------------------------------------\u001b[0m",
      "\u001b[0;31mValueError\u001b[0m                                Traceback (most recent call last)",
      "\u001b[0;32m<ipython-input-28-cf9f0e0e0bfd>\u001b[0m in \u001b[0;36m<module>\u001b[0;34m\u001b[0m\n\u001b[1;32m      2\u001b[0m \u001b[0;31m## test performance on the test set and report final performance\u001b[0m\u001b[0;34m\u001b[0m\u001b[0;34m\u001b[0m\u001b[0;34m\u001b[0m\u001b[0m\n\u001b[1;32m      3\u001b[0m \u001b[0mtest_pred\u001b[0m \u001b[0;34m=\u001b[0m \u001b[0mconv_net\u001b[0m\u001b[0;34m.\u001b[0m\u001b[0mforward\u001b[0m\u001b[0;34m(\u001b[0m\u001b[0mX_test_tensor\u001b[0m\u001b[0;34m)\u001b[0m\u001b[0;34m\u001b[0m\u001b[0;34m\u001b[0m\u001b[0m\n\u001b[0;32m----> 4\u001b[0;31m \u001b[0mtest_loss\u001b[0m \u001b[0;34m=\u001b[0m \u001b[0mcriterion\u001b[0m\u001b[0;34m(\u001b[0m\u001b[0mtest_pred\u001b[0m\u001b[0;34m,\u001b[0m \u001b[0my_test_tensor\u001b[0m\u001b[0;34m)\u001b[0m\u001b[0;34m\u001b[0m\u001b[0;34m\u001b[0m\u001b[0m\n\u001b[0m\u001b[1;32m      5\u001b[0m \u001b[0moptimizer\u001b[0m\u001b[0;34m.\u001b[0m\u001b[0mzero_grad\u001b[0m\u001b[0;34m(\u001b[0m\u001b[0;34m)\u001b[0m\u001b[0;34m\u001b[0m\u001b[0;34m\u001b[0m\u001b[0m\n\u001b[1;32m      6\u001b[0m \u001b[0mtest_loss\u001b[0m\u001b[0;34m.\u001b[0m\u001b[0mbackward\u001b[0m\u001b[0;34m(\u001b[0m\u001b[0;34m)\u001b[0m\u001b[0;34m\u001b[0m\u001b[0;34m\u001b[0m\u001b[0m\n",
      "\u001b[0;32m~/anaconda3/envs/ML/lib/python3.6/site-packages/torch/nn/modules/module.py\u001b[0m in \u001b[0;36m__call__\u001b[0;34m(self, *input, **kwargs)\u001b[0m\n\u001b[1;32m    475\u001b[0m             \u001b[0mresult\u001b[0m \u001b[0;34m=\u001b[0m \u001b[0mself\u001b[0m\u001b[0;34m.\u001b[0m\u001b[0m_slow_forward\u001b[0m\u001b[0;34m(\u001b[0m\u001b[0;34m*\u001b[0m\u001b[0minput\u001b[0m\u001b[0;34m,\u001b[0m \u001b[0;34m**\u001b[0m\u001b[0mkwargs\u001b[0m\u001b[0;34m)\u001b[0m\u001b[0;34m\u001b[0m\u001b[0;34m\u001b[0m\u001b[0m\n\u001b[1;32m    476\u001b[0m         \u001b[0;32melse\u001b[0m\u001b[0;34m:\u001b[0m\u001b[0;34m\u001b[0m\u001b[0;34m\u001b[0m\u001b[0m\n\u001b[0;32m--> 477\u001b[0;31m             \u001b[0mresult\u001b[0m \u001b[0;34m=\u001b[0m \u001b[0mself\u001b[0m\u001b[0;34m.\u001b[0m\u001b[0mforward\u001b[0m\u001b[0;34m(\u001b[0m\u001b[0;34m*\u001b[0m\u001b[0minput\u001b[0m\u001b[0;34m,\u001b[0m \u001b[0;34m**\u001b[0m\u001b[0mkwargs\u001b[0m\u001b[0;34m)\u001b[0m\u001b[0;34m\u001b[0m\u001b[0;34m\u001b[0m\u001b[0m\n\u001b[0m\u001b[1;32m    478\u001b[0m         \u001b[0;32mfor\u001b[0m \u001b[0mhook\u001b[0m \u001b[0;32min\u001b[0m \u001b[0mself\u001b[0m\u001b[0;34m.\u001b[0m\u001b[0m_forward_hooks\u001b[0m\u001b[0;34m.\u001b[0m\u001b[0mvalues\u001b[0m\u001b[0;34m(\u001b[0m\u001b[0;34m)\u001b[0m\u001b[0;34m:\u001b[0m\u001b[0;34m\u001b[0m\u001b[0;34m\u001b[0m\u001b[0m\n\u001b[1;32m    479\u001b[0m             \u001b[0mhook_result\u001b[0m \u001b[0;34m=\u001b[0m \u001b[0mhook\u001b[0m\u001b[0;34m(\u001b[0m\u001b[0mself\u001b[0m\u001b[0;34m,\u001b[0m \u001b[0minput\u001b[0m\u001b[0;34m,\u001b[0m \u001b[0mresult\u001b[0m\u001b[0;34m)\u001b[0m\u001b[0;34m\u001b[0m\u001b[0;34m\u001b[0m\u001b[0m\n",
      "\u001b[0;32m~/anaconda3/envs/ML/lib/python3.6/site-packages/torch/nn/modules/loss.py\u001b[0m in \u001b[0;36mforward\u001b[0;34m(self, input, target)\u001b[0m\n\u001b[1;32m    860\u001b[0m     \u001b[0;32mdef\u001b[0m \u001b[0mforward\u001b[0m\u001b[0;34m(\u001b[0m\u001b[0mself\u001b[0m\u001b[0;34m,\u001b[0m \u001b[0minput\u001b[0m\u001b[0;34m,\u001b[0m \u001b[0mtarget\u001b[0m\u001b[0;34m)\u001b[0m\u001b[0;34m:\u001b[0m\u001b[0;34m\u001b[0m\u001b[0;34m\u001b[0m\u001b[0m\n\u001b[1;32m    861\u001b[0m         return F.cross_entropy(input, target, weight=self.weight,\n\u001b[0;32m--> 862\u001b[0;31m                                ignore_index=self.ignore_index, reduction=self.reduction)\n\u001b[0m\u001b[1;32m    863\u001b[0m \u001b[0;34m\u001b[0m\u001b[0m\n\u001b[1;32m    864\u001b[0m \u001b[0;34m\u001b[0m\u001b[0m\n",
      "\u001b[0;32m~/anaconda3/envs/ML/lib/python3.6/site-packages/torch/nn/functional.py\u001b[0m in \u001b[0;36mcross_entropy\u001b[0;34m(input, target, weight, size_average, ignore_index, reduce, reduction)\u001b[0m\n\u001b[1;32m   1548\u001b[0m     \u001b[0;32mif\u001b[0m \u001b[0msize_average\u001b[0m \u001b[0;32mis\u001b[0m \u001b[0;32mnot\u001b[0m \u001b[0;32mNone\u001b[0m \u001b[0;32mor\u001b[0m \u001b[0mreduce\u001b[0m \u001b[0;32mis\u001b[0m \u001b[0;32mnot\u001b[0m \u001b[0;32mNone\u001b[0m\u001b[0;34m:\u001b[0m\u001b[0;34m\u001b[0m\u001b[0;34m\u001b[0m\u001b[0m\n\u001b[1;32m   1549\u001b[0m         \u001b[0mreduction\u001b[0m \u001b[0;34m=\u001b[0m \u001b[0m_Reduction\u001b[0m\u001b[0;34m.\u001b[0m\u001b[0mlegacy_get_string\u001b[0m\u001b[0;34m(\u001b[0m\u001b[0msize_average\u001b[0m\u001b[0;34m,\u001b[0m \u001b[0mreduce\u001b[0m\u001b[0;34m)\u001b[0m\u001b[0;34m\u001b[0m\u001b[0;34m\u001b[0m\u001b[0m\n\u001b[0;32m-> 1550\u001b[0;31m     \u001b[0;32mreturn\u001b[0m \u001b[0mnll_loss\u001b[0m\u001b[0;34m(\u001b[0m\u001b[0mlog_softmax\u001b[0m\u001b[0;34m(\u001b[0m\u001b[0minput\u001b[0m\u001b[0;34m,\u001b[0m \u001b[0;36m1\u001b[0m\u001b[0;34m)\u001b[0m\u001b[0;34m,\u001b[0m \u001b[0mtarget\u001b[0m\u001b[0;34m,\u001b[0m \u001b[0mweight\u001b[0m\u001b[0;34m,\u001b[0m \u001b[0;32mNone\u001b[0m\u001b[0;34m,\u001b[0m \u001b[0mignore_index\u001b[0m\u001b[0;34m,\u001b[0m \u001b[0;32mNone\u001b[0m\u001b[0;34m,\u001b[0m \u001b[0mreduction\u001b[0m\u001b[0;34m)\u001b[0m\u001b[0;34m\u001b[0m\u001b[0;34m\u001b[0m\u001b[0m\n\u001b[0m\u001b[1;32m   1551\u001b[0m \u001b[0;34m\u001b[0m\u001b[0m\n\u001b[1;32m   1552\u001b[0m \u001b[0;34m\u001b[0m\u001b[0m\n",
      "\u001b[0;32m~/anaconda3/envs/ML/lib/python3.6/site-packages/torch/nn/functional.py\u001b[0m in \u001b[0;36mnll_loss\u001b[0;34m(input, target, weight, size_average, ignore_index, reduce, reduction)\u001b[0m\n\u001b[1;32m   1403\u001b[0m     \u001b[0;32mif\u001b[0m \u001b[0minput\u001b[0m\u001b[0;34m.\u001b[0m\u001b[0msize\u001b[0m\u001b[0;34m(\u001b[0m\u001b[0;36m0\u001b[0m\u001b[0;34m)\u001b[0m \u001b[0;34m!=\u001b[0m \u001b[0mtarget\u001b[0m\u001b[0;34m.\u001b[0m\u001b[0msize\u001b[0m\u001b[0;34m(\u001b[0m\u001b[0;36m0\u001b[0m\u001b[0;34m)\u001b[0m\u001b[0;34m:\u001b[0m\u001b[0;34m\u001b[0m\u001b[0;34m\u001b[0m\u001b[0m\n\u001b[1;32m   1404\u001b[0m         raise ValueError('Expected input batch_size ({}) to match target batch_size ({}).'\n\u001b[0;32m-> 1405\u001b[0;31m                          .format(input.size(0), target.size(0)))\n\u001b[0m\u001b[1;32m   1406\u001b[0m     \u001b[0;32mif\u001b[0m \u001b[0mdim\u001b[0m \u001b[0;34m==\u001b[0m \u001b[0;36m2\u001b[0m\u001b[0;34m:\u001b[0m\u001b[0;34m\u001b[0m\u001b[0;34m\u001b[0m\u001b[0m\n\u001b[1;32m   1407\u001b[0m         \u001b[0;32mreturn\u001b[0m \u001b[0mtorch\u001b[0m\u001b[0;34m.\u001b[0m\u001b[0m_C\u001b[0m\u001b[0;34m.\u001b[0m\u001b[0m_nn\u001b[0m\u001b[0;34m.\u001b[0m\u001b[0mnll_loss\u001b[0m\u001b[0;34m(\u001b[0m\u001b[0minput\u001b[0m\u001b[0;34m,\u001b[0m \u001b[0mtarget\u001b[0m\u001b[0;34m,\u001b[0m \u001b[0mweight\u001b[0m\u001b[0;34m,\u001b[0m \u001b[0m_Reduction\u001b[0m\u001b[0;34m.\u001b[0m\u001b[0mget_enum\u001b[0m\u001b[0;34m(\u001b[0m\u001b[0mreduction\u001b[0m\u001b[0;34m)\u001b[0m\u001b[0;34m,\u001b[0m \u001b[0mignore_index\u001b[0m\u001b[0;34m)\u001b[0m\u001b[0;34m\u001b[0m\u001b[0;34m\u001b[0m\u001b[0m\n",
      "\u001b[0;31mValueError\u001b[0m: Expected input batch_size (10000) to match target batch_size (1000)."
     ]
    }
   ],
   "source": [
    "## test performance on the test set and report final performance\n",
    "## test performance on the test set and report final performance\n",
    "test_pred = conv_net.forward(X_test_tensor)\n",
    "test_loss = criterion(test_pred, y_test_tensor)\n",
    "optimizer.zero_grad()\n",
    "test_loss.backward()\n",
    "optimizer.step()\n",
    "correct, test_accu = get_correct_and_accuracy(test_pred,y_test_tensor)\n",
    "\n",
    "print(\"Test accuracy: \", test_accu )"
   ]
  },
  {
   "cell_type": "markdown",
   "metadata": {},
   "source": [
    "## Other things you can do to improve model performance: \n",
    "1. Add in regularization, you can use l2, Dropout\n",
    "2. Use a better data normalization method\n",
    "3. Train on more data\n",
    "4. Do data augmentation to get more data\n",
    "5. Use a more powerful network structure\n",
    "6. Do transfer learning"
   ]
  },
  {
   "cell_type": "code",
   "execution_count": null,
   "metadata": {},
   "outputs": [],
   "source": []
  },
  {
   "cell_type": "code",
   "execution_count": null,
   "metadata": {},
   "outputs": [],
   "source": []
  },
  {
   "cell_type": "code",
   "execution_count": null,
   "metadata": {},
   "outputs": [],
   "source": []
  },
  {
   "cell_type": "code",
   "execution_count": null,
   "metadata": {},
   "outputs": [],
   "source": []
  },
  {
   "cell_type": "code",
   "execution_count": null,
   "metadata": {},
   "outputs": [],
   "source": []
  }
 ],
 "metadata": {
  "kernelspec": {
   "display_name": "Python 3",
   "language": "python",
   "name": "python3"
  },
  "language_info": {
   "codemirror_mode": {
    "name": "ipython",
    "version": 3
   },
   "file_extension": ".py",
   "mimetype": "text/x-python",
   "name": "python",
   "nbconvert_exporter": "python",
   "pygments_lexer": "ipython3",
   "version": "3.6.8"
  }
 },
 "nbformat": 4,
 "nbformat_minor": 2
}
