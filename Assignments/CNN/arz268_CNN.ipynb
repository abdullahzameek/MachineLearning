{
 "cells": [
  {
   "cell_type": "markdown",
   "metadata": {},
   "source": [
    "## Abdullah Zameek (arz268)\n",
    "\n",
    "## Neural Network Assignment: Image Classification on CIFAR-10\n",
    "In this assignment, you will design and implement first a multi-layer perceptron model and then a convolutional network model in Pytorch. We will use the CIFAR-10 image dataset. Please complete the rest of the notebook by doing the following tasks.\n",
    "\n",
    "- Build your network (A MLP model and a CONVNET model). There are some requirements on the network structure, please check the corresponding code sections. \n",
    "- Train your network. \n",
    "- Describe your training procedure. Plot the following:\n",
    "    1. Training and validation loss vs. training iterations.\n",
    "    2. Training and validation accuracy vs. training iterations.\n",
    "- Report a final test result on 10000 separate testing examples.\n",
    "- Give detailed explanation of your code\n",
    "\n",
    "You can follow the skeleton code in the notebook to proceed. Look for the ##TODO## mark, that's where you should write your code. \n",
    "\n",
    "Check Pytorch documentation for reference: https://pytorch.org/tutorials/"
   ]
  },
  {
   "cell_type": "markdown",
   "metadata": {},
   "source": [
    "## 1.1 Download data\n",
    "From this website: https://www.cs.toronto.edu/~kriz/cifar.html\n",
    "Download the CIFAR-10 python version, which is 163 MB. \n",
    "Extract the file you downloaded, you should be able to see a folder named cifar-10-batches-py. The data files are inside. ('data_batch_1', 'data_batch_2', etc..). To make things easier put these data files in a new folder called 'cifar-10-data'. The folder 'cifar-10-data' should be in the same directory as your jupyter notebook. Now we load the data into memory. \n",
    "\n",
    "# TODO you should download data"
   ]
  },
  {
   "cell_type": "markdown",
   "metadata": {},
   "source": [
    "## 1.2 Loading Data: you should read the website's data description and have a better understanding of the data (quote):\n",
    "Loaded in this way, each of the batch files contains a dictionary with the following elements:\n",
    "data -- a 10000x3072 numpy array of uint8s. Each row of the array stores a 32x32 colour image. The first 1024 entries contain the red channel values, the next 1024 the green, and the final 1024 the blue. The image is stored in row-major order, so that the first 32 entries of the array are the red channel values of the first row of the image.\n",
    "labels -- a list of 10000 numbers in the range 0-9. The number at index i indicates the label of the ith image in the array data.\n",
    "\n",
    "The dataset contains another file, called batches.meta. It too contains a Python dictionary object. It has the following entries:\n",
    "label_names -- a 10-element list which gives meaningful names to the numeric labels in the labels array described above. For example, label_names[0] == \"airplane\", label_names[1] == \"automobile\", etc.\n"
   ]
  },
  {
   "cell_type": "code",
   "execution_count": 1,
   "metadata": {},
   "outputs": [],
   "source": [
    "import numpy as np\n",
    "import torch\n",
    "import torch.nn as nn\n",
    "import torch.optim as optim\n",
    "import torch.nn.functional as F"
   ]
  },
  {
   "cell_type": "code",
   "execution_count": 2,
   "metadata": {},
   "outputs": [],
   "source": [
    "## follow the instructions on the website\n",
    "def unpickle(file):\n",
    "    ## used to read binary files since our data files are in binary format\n",
    "    import pickle\n",
    "    with open(file, 'rb') as fo:\n",
    "        dict = pickle.load(fo, encoding='bytes')\n",
    "    return dict"
   ]
  },
  {
   "cell_type": "code",
   "execution_count": 3,
   "metadata": {},
   "outputs": [],
   "source": [
    "## loading data from binary data files\n",
    "batch_1_dictionary = unpickle('cifar-10-data/data_batch_1')\n",
    "batch_2_dictionary = unpickle('cifar-10-data/data_batch_2')"
   ]
  },
  {
   "cell_type": "code",
   "execution_count": 4,
   "metadata": {},
   "outputs": [
    {
     "data": {
      "text/plain": [
       "dict_keys([b'batch_label', b'labels', b'data', b'filenames'])"
      ]
     },
     "execution_count": 4,
     "metadata": {},
     "output_type": "execute_result"
    }
   ],
   "source": [
    "batch_1_dictionary.keys()"
   ]
  },
  {
   "cell_type": "code",
   "execution_count": 5,
   "metadata": {},
   "outputs": [],
   "source": [
    "## get training, validation and testing sets\n",
    "X_train_all = np.array(batch_1_dictionary[b'data']).reshape(10000,3,32,32)\n",
    "y_train_all = np.array(batch_1_dictionary[b'labels'])\n",
    "validation_count = 1000\n",
    "train_count = X_train_all.shape[0]-1000\n",
    "X_train = X_train_all[:train_count]\n",
    "y_train = y_train_all[:train_count]\n",
    "X_val = X_train_all[train_count:]\n",
    "y_val = y_train_all[train_count:]\n",
    "X_test = np.array(batch_2_dictionary[b'data']).reshape(10000,3,32,32)\n",
    "y_test = np.array(batch_2_dictionary[b'labels'])"
   ]
  },
  {
   "cell_type": "code",
   "execution_count": 6,
   "metadata": {},
   "outputs": [
    {
     "data": {
      "text/plain": [
       "((9000, 3, 32, 32),\n",
       " (9000,),\n",
       " (1000, 3, 32, 32),\n",
       " (1000,),\n",
       " (10000, 3, 32, 32),\n",
       " (10000,))"
      ]
     },
     "execution_count": 6,
     "metadata": {},
     "output_type": "execute_result"
    }
   ],
   "source": [
    "X_train.shape, y_train.shape, X_val.shape, y_val.shape, X_test.shape, y_test.shape"
   ]
  },
  {
   "cell_type": "code",
   "execution_count": 7,
   "metadata": {},
   "outputs": [],
   "source": [
    "# import os\n",
    "# import psutil\n",
    "# process = psutil.Process(os.getpid())\n",
    "# print(process.memory_info().rss / 1000000)  # in bytes "
   ]
  },
  {
   "cell_type": "markdown",
   "metadata": {},
   "source": [
    "## 1.3 Preprocess Data\n",
    "Typically public datasets have some kind of data description or manual that we can use to gain basic understanding of the dataset. You should always try to look for such things and utilize them before you start processing the data. We now want to preprocess the data. \n",
    "\n",
    "We now want to do a data normalization. (Do you still remember why data normalization is important? Refer to Normalizing Input in first week of Improving Deep Neural Networks: Hyperparameter tuning, Regularization and Optimization)\n",
    "You can typically just do the minus by mean and divide by std normalization. But since we are dealing with image data, we can use another type of data normalization: simply divide by 255 to bring all features to the range (0,1).  (Think about why the number 255?) There are different ways to normalize data, feel free to try more options if you are interested. \n",
    "\n",
    "\n",
    "# TODO \n",
    "write your data normalization function here"
   ]
  },
  {
   "cell_type": "code",
   "execution_count": 33,
   "metadata": {},
   "outputs": [],
   "source": [
    "# for RGB data we can simply divide by 255\n",
    "X_train_normalized = X_train/255\n",
    "X_val_normalized =  X_val/255\n",
    "X_test_normalized = X_test/255\n"
   ]
  },
  {
   "cell_type": "markdown",
   "metadata": {},
   "source": [
    "#################################################################################################\n",
    "\n",
    "We use 255 because the range of RGB values go from 0-255, hence why RGB values are\n",
    "usually represented as (R,G,B) where R, G, and B are some integer between 0-255\n",
    "\n",
    "#################################################################################################"
   ]
  },
  {
   "cell_type": "markdown",
   "metadata": {},
   "source": [
    "## 1.4 Take a look at the data\n",
    "We can plot the image data to have a better understanding of it."
   ]
  },
  {
   "cell_type": "code",
   "execution_count": 9,
   "metadata": {},
   "outputs": [],
   "source": [
    "## class label related\n",
    "CLASSES = ['plane', 'car', 'bird', 'cat', 'deer', 'dog', 'frog', 'horse', 'ship', 'truck']\n",
    "\n",
    "def index_to_class_name(y):\n",
    "    return CLASSES[y]\n",
    "def class_name_to_index(class_name):\n",
    "    return CLASSES.index(class_name)"
   ]
  },
  {
   "cell_type": "code",
   "execution_count": 10,
   "metadata": {},
   "outputs": [],
   "source": [
    "import math\n",
    "import matplotlib.pyplot as plt\n",
    "import matplotlib.image as mpimg\n",
    "\"\"\"\n",
    "Plotting utilities, if you want to know how these work exactly, check the reference\n",
    "Or the documentations\n",
    "reference: \n",
    "https://matplotlib.org/users/image_tutorial.html\n",
    "https://stackoverflow.com/questions/46615554/how-to-display-multiple-images-in-one-figure-correctly/46616645\n",
    "\"\"\" \n",
    "\n",
    "def show_single_image(data):\n",
    "    # show a single image\n",
    "    ## note that using matplotlib plotting function, we will have to reshape the data as (1,32,32,3)\n",
    "    img = data.reshape(3,32,32).transpose(1,2,0)\n",
    "    imgplot = plt.imshow(img)\n",
    "def show_multiple_images(data, data_y, n_show=12, columns=4):\n",
    "    ## given an array of data, show all of them as images\n",
    "    fig=plt.figure(figsize=(8, 8))\n",
    "    n = min(data.shape[0], n_show)\n",
    "    rows = math.ceil(n/columns)\n",
    "    for i in range(n):\n",
    "        img = data[i].reshape(3,32,32).transpose(1,2,0)\n",
    "        ax = fig.add_subplot(rows, columns, i+1) ## subplot index starts from 1 not 0\n",
    "        class_name = index_to_class_name(data_y[i])\n",
    "        ax.set_title(str(data_y[i])+\": \"+class_name)\n",
    "        plt.imshow(img)\n",
    "    plt.show()"
   ]
  },
  {
   "cell_type": "code",
   "execution_count": 11,
   "metadata": {},
   "outputs": [
    {
     "data": {
      "image/png": "[encoded data removed]",
      "text/plain": [
       "<Figure size 576x576 with 12 Axes>"
      ]
     },
     "metadata": {
      "needs_background": "light"
     },
     "output_type": "display_data"
    }
   ],
   "source": [
    "show_multiple_images(X_train, y_train)"
   ]
  },
  {
   "cell_type": "markdown",
   "metadata": {},
   "source": [
    "## 2.1 Design Network Structure of a MLP Model\n",
    "Reference: https://pytorch.org/tutorials/beginner/blitz/neural_networks_tutorial.html\n",
    "\n",
    "When we use a multi-layer perceptron (a very basic neural net with fully connected layers), we will need to flatten the data so that the MLP can use it. Each data point in our training data is currently in the form of 1x32x32x3, we want to convert it into 1x3072, so that its shape makes sense to our MLP's input layer. Recall that in our MLP, the input size for the first layer is 3072. There are multiple ways of doing this, we can directly flatten all data points, or we can also do the flattening for each mini-batch. \n",
    "\n",
    "In terms of the loss function, since we are doing the task of multi-class classification, we will use the cross entropy loss. \n",
    "\n",
    "We will use nn.CrossEntropyLoss to compute this, refer to Pytorch doc for details. A short summary is \"this criterion combines nn.LogSoftmax() and nn.NLLLoss() in one single class\" That basically means we don't have to worry about softmax layer and the log part. Make sure you read the Pytorch doc to understand exactly how it works. \n",
    "\n",
    "# TODO\n",
    "write your network structure here\n",
    "\n",
    "1. you should only use linear layers (nn.Linear), should use 2 or more linear layers\n",
    "2. and you should use relu as activation\n",
    "3. after the final layer we DON'T HAVE activation\n",
    "4. you should not use softmax here because pytorch's BCE loss includes softmax\n",
    "5. for hidden layer size, anything between 32-256 is OK"
   ]
  },
  {
   "cell_type": "code",
   "execution_count": 12,
   "metadata": {},
   "outputs": [],
   "source": [
    "import torch\n",
    "import torch.nn as nn\n",
    "import torch.nn.functional as F\n",
    "from torch import Tensor\n",
    "import torch.optim as optim\n",
    "\n",
    "class MLP(nn.Module):\n",
    "    ## a very simple MLP model\n",
    "    def __init__(self, input_dim, output_dim):\n",
    "        super(MLP, self).__init__()\n",
    "        self.fc1 = nn.Linear(input_dim, 48)\n",
    "        self.fc2 = nn.Linear(48,output_dim)\n",
    "\n",
    "    def forward(self, x):\n",
    "        z_1 = self.fc1(x)\n",
    "        a_1 = F.relu(z_1)\n",
    "        z_2 = self.fc2(a_1)\n",
    "        return z_2"
   ]
  },
  {
   "cell_type": "markdown",
   "metadata": {},
   "source": [
    "###############################################################################################################\n",
    "\n",
    "I changed the output of the first hidden layer to be 48 instead of 32 because it allowed for a larger difference between the two hidden layers which in turn allowed for a richer range of outputs. This reflected in a slightly higher accuracy on the test set\n",
    "\n",
    "###############################################################################################################"
   ]
  },
  {
   "cell_type": "code",
   "execution_count": 13,
   "metadata": {},
   "outputs": [],
   "source": [
    "# utility for getting prediction accuracy\n",
    "def get_correct_and_accuracy(y_pred, y):\n",
    "    # y_pred is the nxC prediction scores\n",
    "    # give the number of correct and the accuracy\n",
    "    n = y.shape[0]\n",
    "    # find the prediction class label\n",
    "    _ ,pred_class = y_pred.max(dim=1)\n",
    "    correct = (pred_class == y).sum().item()\n",
    "    return correct ,correct/n"
   ]
  },
  {
   "cell_type": "markdown",
   "metadata": {},
   "source": [
    "## 2.2 Training the MLP model\n",
    "1. We first initialize the neural network, and also the optimizer and the criterion (loss function)\n",
    "2. We then convert data into correct tensor form (note for MLP we need to flatten the image data, from 3x32x32 to 3072)\n",
    "3. We then start doing training iterations\n",
    "\n",
    "# TODO \n",
    "write code here \n",
    "1. init your model\n",
    "2. use Adam optimizer, with lr=1e-3\n",
    "3. use cross entropy criterion\n",
    "4. for X_train, X_val, cast to Tensor and then reshape them to flatten them (change shape to mx3072)\n",
    "5. for y_train, y_val, cast to Tensor and then cast to type long\n",
    "6. simply do 100 iterations"
   ]
  },
  {
   "cell_type": "code",
   "execution_count": 14,
   "metadata": {
    "scrolled": true
   },
   "outputs": [
    {
     "name": "stdout",
     "output_type": "stream",
     "text": [
      "model structure:  MLP(\n",
      "  (fc1): Linear(in_features=3072, out_features=48, bias=True)\n",
      "  (fc2): Linear(in_features=48, out_features=10, bias=True)\n",
      ")\n",
      "36\n",
      "4\n",
      "torch.Size([9000, 3072])\n",
      "torch.Size([1000, 3072])\n",
      "torch.Size([10000, 3072])\n"
     ]
    }
   ],
   "source": [
    "# init network\n",
    "mlp = MLP(3072, 10)\n",
    "print('model structure: ',mlp)\n",
    "# init optimizer\n",
    "optimizer = optim.Adam(mlp.parameters(), lr= 1e-3) #lr = 1e-1 <==> learning rate = 0.001\n",
    "\n",
    "# set loss function\n",
    "criterion = nn.CrossEntropyLoss()\n",
    "\n",
    "# prepare for mini-batch stochastic gradient descent\n",
    "n_iteration = 100\n",
    "batch_size = 256\n",
    "n_train_data = X_train_normalized.shape[0]\n",
    "n_val_data = X_val_normalized.shape[0]\n",
    "n_test_data = X_test_normalized.shape[0]\n",
    "\n",
    "\n",
    "n_batch = int(np.ceil(n_train_data/batch_size))\n",
    "n_batch_val = int(np.ceil(n_val_data/batch_size))\n",
    "\n",
    "print(n_batch)\n",
    "print(n_batch_val)\n",
    "# convert X_train and X_val to tensor and flatten them\n",
    "X_train_tensor = Tensor(X_train_normalized).reshape(n_train_data,-1)\n",
    "print(X_train_tensor.shape)\n",
    "\n",
    "X_val_tensor = Tensor(X_val_normalized).reshape(n_val_data,-1)\n",
    "print(X_val_tensor.shape)\n",
    "\n",
    "X_test_tensor = Tensor(X_test_normalized).reshape(n_test_data,-1)\n",
    "print(X_test_tensor.shape)\n",
    "\n",
    "# convert training label to tensor and to type long\n",
    "y_train_tensor = Tensor(y_train).long()\n",
    "y_val_tensor = Tensor(y_val).long()\n",
    "y_test_tensor = Tensor(y_test).long()\n"
   ]
  },
  {
   "cell_type": "markdown",
   "metadata": {},
   "source": [
    "# TODO\n",
    "1. Here you will have to write training code \n",
    "2. As well as code to log the training process for later plotting\n",
    "3. After each iteration through training data, you should use that print function to log you current training process"
   ]
  },
  {
   "cell_type": "code",
   "execution_count": 15,
   "metadata": {
    "scrolled": true
   },
   "outputs": [
    {
     "name": "stdout",
     "output_type": "stream",
     "text": [
      "Iter 0 ,Train loss: 2.184, Train acc: 0.190, Val loss: 2.067, Val acc: 0.239\n",
      "Iter 1 ,Train loss: 2.074, Train acc: 0.278, Val loss: 1.961, Val acc: 0.310\n",
      "Iter 2 ,Train loss: 1.987, Train acc: 0.325, Val loss: 1.903, Val acc: 0.333\n",
      "Iter 3 ,Train loss: 1.934, Train acc: 0.348, Val loss: 1.869, Val acc: 0.340\n",
      "Iter 4 ,Train loss: 1.898, Train acc: 0.362, Val loss: 1.849, Val acc: 0.340\n",
      "Iter 5 ,Train loss: 1.872, Train acc: 0.371, Val loss: 1.836, Val acc: 0.351\n",
      "Iter 6 ,Train loss: 1.852, Train acc: 0.379, Val loss: 1.824, Val acc: 0.358\n",
      "Iter 7 ,Train loss: 1.832, Train acc: 0.385, Val loss: 1.812, Val acc: 0.361\n",
      "Iter 8 ,Train loss: 1.814, Train acc: 0.393, Val loss: 1.802, Val acc: 0.370\n",
      "Iter 9 ,Train loss: 1.798, Train acc: 0.398, Val loss: 1.792, Val acc: 0.378\n",
      "Iter 10 ,Train loss: 1.780, Train acc: 0.404, Val loss: 1.785, Val acc: 0.382\n",
      "Iter 11 ,Train loss: 1.765, Train acc: 0.410, Val loss: 1.775, Val acc: 0.386\n",
      "Iter 12 ,Train loss: 1.751, Train acc: 0.416, Val loss: 1.767, Val acc: 0.390\n",
      "Iter 13 ,Train loss: 1.738, Train acc: 0.420, Val loss: 1.757, Val acc: 0.396\n",
      "Iter 14 ,Train loss: 1.726, Train acc: 0.423, Val loss: 1.748, Val acc: 0.396\n",
      "Iter 15 ,Train loss: 1.716, Train acc: 0.424, Val loss: 1.741, Val acc: 0.398\n",
      "Iter 16 ,Train loss: 1.706, Train acc: 0.428, Val loss: 1.733, Val acc: 0.403\n",
      "Iter 17 ,Train loss: 1.698, Train acc: 0.432, Val loss: 1.721, Val acc: 0.410\n",
      "Iter 18 ,Train loss: 1.689, Train acc: 0.436, Val loss: 1.720, Val acc: 0.409\n",
      "Iter 19 ,Train loss: 1.680, Train acc: 0.437, Val loss: 1.713, Val acc: 0.407\n",
      "Iter 20 ,Train loss: 1.673, Train acc: 0.443, Val loss: 1.710, Val acc: 0.407\n",
      "Iter 21 ,Train loss: 1.666, Train acc: 0.445, Val loss: 1.707, Val acc: 0.410\n",
      "Iter 22 ,Train loss: 1.659, Train acc: 0.451, Val loss: 1.702, Val acc: 0.409\n",
      "Iter 23 ,Train loss: 1.653, Train acc: 0.451, Val loss: 1.700, Val acc: 0.413\n",
      "Iter 24 ,Train loss: 1.646, Train acc: 0.455, Val loss: 1.697, Val acc: 0.419\n",
      "Iter 25 ,Train loss: 1.641, Train acc: 0.456, Val loss: 1.693, Val acc: 0.414\n",
      "Iter 26 ,Train loss: 1.634, Train acc: 0.459, Val loss: 1.690, Val acc: 0.417\n",
      "Iter 27 ,Train loss: 1.631, Train acc: 0.462, Val loss: 1.687, Val acc: 0.421\n",
      "Iter 28 ,Train loss: 1.624, Train acc: 0.465, Val loss: 1.681, Val acc: 0.420\n",
      "Iter 29 ,Train loss: 1.619, Train acc: 0.465, Val loss: 1.678, Val acc: 0.421\n",
      "Iter 30 ,Train loss: 1.615, Train acc: 0.468, Val loss: 1.677, Val acc: 0.418\n",
      "Iter 31 ,Train loss: 1.611, Train acc: 0.468, Val loss: 1.675, Val acc: 0.418\n",
      "Iter 32 ,Train loss: 1.607, Train acc: 0.467, Val loss: 1.672, Val acc: 0.416\n",
      "Iter 33 ,Train loss: 1.602, Train acc: 0.467, Val loss: 1.670, Val acc: 0.417\n",
      "Iter 34 ,Train loss: 1.598, Train acc: 0.471, Val loss: 1.668, Val acc: 0.416\n",
      "Iter 35 ,Train loss: 1.594, Train acc: 0.471, Val loss: 1.667, Val acc: 0.415\n",
      "Iter 36 ,Train loss: 1.590, Train acc: 0.474, Val loss: 1.664, Val acc: 0.420\n",
      "Iter 37 ,Train loss: 1.586, Train acc: 0.477, Val loss: 1.665, Val acc: 0.421\n",
      "Iter 38 ,Train loss: 1.582, Train acc: 0.477, Val loss: 1.664, Val acc: 0.422\n",
      "Iter 39 ,Train loss: 1.579, Train acc: 0.480, Val loss: 1.663, Val acc: 0.421\n",
      "Iter 40 ,Train loss: 1.576, Train acc: 0.480, Val loss: 1.666, Val acc: 0.416\n",
      "Iter 41 ,Train loss: 1.571, Train acc: 0.482, Val loss: 1.665, Val acc: 0.421\n",
      "Iter 42 ,Train loss: 1.568, Train acc: 0.485, Val loss: 1.666, Val acc: 0.420\n",
      "Iter 43 ,Train loss: 1.565, Train acc: 0.488, Val loss: 1.667, Val acc: 0.419\n",
      "Iter 44 ,Train loss: 1.562, Train acc: 0.489, Val loss: 1.668, Val acc: 0.417\n",
      "Iter 45 ,Train loss: 1.558, Train acc: 0.490, Val loss: 1.668, Val acc: 0.418\n",
      "Iter 46 ,Train loss: 1.554, Train acc: 0.492, Val loss: 1.672, Val acc: 0.414\n",
      "Iter 47 ,Train loss: 1.548, Train acc: 0.496, Val loss: 1.669, Val acc: 0.423\n",
      "Iter 48 ,Train loss: 1.546, Train acc: 0.498, Val loss: 1.673, Val acc: 0.423\n",
      "Iter 49 ,Train loss: 1.542, Train acc: 0.499, Val loss: 1.674, Val acc: 0.419\n",
      "Iter 50 ,Train loss: 1.538, Train acc: 0.502, Val loss: 1.673, Val acc: 0.421\n",
      "Iter 51 ,Train loss: 1.535, Train acc: 0.503, Val loss: 1.674, Val acc: 0.422\n",
      "Iter 52 ,Train loss: 1.531, Train acc: 0.504, Val loss: 1.674, Val acc: 0.421\n",
      "Iter 53 ,Train loss: 1.527, Train acc: 0.505, Val loss: 1.676, Val acc: 0.424\n",
      "Iter 54 ,Train loss: 1.525, Train acc: 0.507, Val loss: 1.675, Val acc: 0.421\n",
      "Iter 55 ,Train loss: 1.521, Train acc: 0.508, Val loss: 1.679, Val acc: 0.421\n",
      "Iter 56 ,Train loss: 1.517, Train acc: 0.509, Val loss: 1.680, Val acc: 0.421\n",
      "Iter 57 ,Train loss: 1.514, Train acc: 0.509, Val loss: 1.680, Val acc: 0.418\n",
      "Iter 58 ,Train loss: 1.511, Train acc: 0.509, Val loss: 1.680, Val acc: 0.421\n",
      "Iter 59 ,Train loss: 1.507, Train acc: 0.512, Val loss: 1.678, Val acc: 0.422\n",
      "Iter 60 ,Train loss: 1.505, Train acc: 0.512, Val loss: 1.682, Val acc: 0.422\n",
      "Iter 61 ,Train loss: 1.501, Train acc: 0.514, Val loss: 1.681, Val acc: 0.424\n",
      "Iter 62 ,Train loss: 1.498, Train acc: 0.515, Val loss: 1.681, Val acc: 0.421\n",
      "Iter 63 ,Train loss: 1.494, Train acc: 0.517, Val loss: 1.681, Val acc: 0.423\n",
      "Iter 64 ,Train loss: 1.491, Train acc: 0.517, Val loss: 1.681, Val acc: 0.422\n",
      "Iter 65 ,Train loss: 1.488, Train acc: 0.519, Val loss: 1.683, Val acc: 0.420\n",
      "Iter 66 ,Train loss: 1.485, Train acc: 0.522, Val loss: 1.680, Val acc: 0.423\n",
      "Iter 67 ,Train loss: 1.482, Train acc: 0.523, Val loss: 1.682, Val acc: 0.427\n",
      "Iter 68 ,Train loss: 1.479, Train acc: 0.524, Val loss: 1.682, Val acc: 0.427\n",
      "Iter 69 ,Train loss: 1.476, Train acc: 0.525, Val loss: 1.681, Val acc: 0.430\n",
      "Iter 70 ,Train loss: 1.473, Train acc: 0.524, Val loss: 1.679, Val acc: 0.427\n",
      "Iter 71 ,Train loss: 1.469, Train acc: 0.528, Val loss: 1.677, Val acc: 0.428\n",
      "Iter 72 ,Train loss: 1.466, Train acc: 0.529, Val loss: 1.675, Val acc: 0.430\n",
      "Iter 73 ,Train loss: 1.464, Train acc: 0.529, Val loss: 1.675, Val acc: 0.434\n",
      "Iter 74 ,Train loss: 1.462, Train acc: 0.531, Val loss: 1.679, Val acc: 0.433\n",
      "Iter 75 ,Train loss: 1.460, Train acc: 0.529, Val loss: 1.678, Val acc: 0.433\n",
      "Iter 76 ,Train loss: 1.457, Train acc: 0.532, Val loss: 1.681, Val acc: 0.431\n",
      "Iter 77 ,Train loss: 1.456, Train acc: 0.530, Val loss: 1.679, Val acc: 0.437\n",
      "Iter 78 ,Train loss: 1.455, Train acc: 0.532, Val loss: 1.681, Val acc: 0.429\n",
      "Iter 79 ,Train loss: 1.454, Train acc: 0.532, Val loss: 1.677, Val acc: 0.432\n",
      "Iter 80 ,Train loss: 1.452, Train acc: 0.534, Val loss: 1.676, Val acc: 0.433\n",
      "Iter 81 ,Train loss: 1.451, Train acc: 0.532, Val loss: 1.671, Val acc: 0.436\n",
      "Iter 82 ,Train loss: 1.449, Train acc: 0.533, Val loss: 1.668, Val acc: 0.434\n",
      "Iter 83 ,Train loss: 1.447, Train acc: 0.535, Val loss: 1.662, Val acc: 0.435\n",
      "Iter 84 ,Train loss: 1.444, Train acc: 0.536, Val loss: 1.662, Val acc: 0.436\n",
      "Iter 85 ,Train loss: 1.441, Train acc: 0.538, Val loss: 1.658, Val acc: 0.433\n",
      "Iter 86 ,Train loss: 1.437, Train acc: 0.540, Val loss: 1.658, Val acc: 0.435\n",
      "Iter 87 ,Train loss: 1.433, Train acc: 0.540, Val loss: 1.659, Val acc: 0.433\n",
      "Iter 88 ,Train loss: 1.430, Train acc: 0.541, Val loss: 1.662, Val acc: 0.433\n",
      "Iter 89 ,Train loss: 1.426, Train acc: 0.543, Val loss: 1.663, Val acc: 0.429\n",
      "Iter 90 ,Train loss: 1.423, Train acc: 0.543, Val loss: 1.664, Val acc: 0.428\n",
      "Iter 91 ,Train loss: 1.420, Train acc: 0.544, Val loss: 1.664, Val acc: 0.428\n",
      "Iter 92 ,Train loss: 1.417, Train acc: 0.545, Val loss: 1.667, Val acc: 0.425\n",
      "Iter 93 ,Train loss: 1.414, Train acc: 0.548, Val loss: 1.666, Val acc: 0.423\n",
      "Iter 94 ,Train loss: 1.412, Train acc: 0.548, Val loss: 1.669, Val acc: 0.422\n",
      "Iter 95 ,Train loss: 1.410, Train acc: 0.549, Val loss: 1.667, Val acc: 0.423\n",
      "Iter 96 ,Train loss: 1.408, Train acc: 0.550, Val loss: 1.668, Val acc: 0.425\n",
      "Iter 97 ,Train loss: 1.405, Train acc: 0.551, Val loss: 1.671, Val acc: 0.428\n",
      "Iter 98 ,Train loss: 1.403, Train acc: 0.552, Val loss: 1.671, Val acc: 0.425\n",
      "Iter 99 ,Train loss: 1.400, Train acc: 0.552, Val loss: 1.671, Val acc: 0.432\n"
     ]
    }
   ],
   "source": [
    "## start \n",
    "train_loss_list = np.zeros(n_iteration)\n",
    "train_accu_list = np.zeros(n_iteration)\n",
    "val_loss_list = np.zeros(n_iteration)\n",
    "val_accu_list = np.zeros(n_iteration)\n",
    "\n",
    "train_accu = 0\n",
    "val_accu = 0\n",
    "ave_train_loss = 0\n",
    "ave_val_loss = 0\n",
    "\n",
    "for i in range(n_iteration):\n",
    "    # first get a minibatch of data\n",
    "    for j in range(n_batch):\n",
    "        batch_start_index = j*batch_size\n",
    "        # get data batch from the normalized data\n",
    "        X_batch = X_train_tensor[batch_start_index:batch_start_index+batch_size]\n",
    "        # get ground truth label y\n",
    "        y_batch = y_train_tensor[batch_start_index:batch_start_index+batch_size]\n",
    "\n",
    "        y_pred = mlp.forward(X_batch)\n",
    "        train_loss = criterion(y_pred, y_batch)\n",
    "        \n",
    "        optimizer.zero_grad()\n",
    "        train_loss.backward()\n",
    "        optimizer.step()\n",
    "        \n",
    "        numCorrect, iter_accu = get_correct_and_accuracy(y_pred,y_batch)\n",
    "            \n",
    "        train_accu += iter_accu\n",
    "        ave_train_loss += train_loss.item()\n",
    "      \n",
    "    train_accu /= n_batch\n",
    "    ave_train_loss /= n_batch\n",
    "    \n",
    "    val_pred = mlp.forward(X_val_tensor)\n",
    "    val_loss = criterion(val_pred, y_val_tensor)\n",
    "    optimizer.zero_grad()\n",
    "    val_loss.backward()\n",
    "    optimizer.step()\n",
    "    correct, val_accu = get_correct_and_accuracy(val_pred,y_val_tensor)\n",
    "    \n",
    "    print(\"Iter %d ,Train loss: %.3f, Train acc: %.3f, Val loss: %.3f, Val acc: %.3f\" \n",
    "          %(i ,ave_train_loss, train_accu, val_loss, val_accu)) \n",
    "    \n",
    "    ## add to the logs so that we can use them later for plotting\n",
    "    train_loss_list[i] = ave_train_loss\n",
    "    train_accu_list[i] = train_accu\n",
    "    val_loss_list[i] = val_loss.item()\n",
    "    val_accu_list[i] = val_accu\n",
    "    "
   ]
  },
  {
   "cell_type": "markdown",
   "metadata": {},
   "source": [
    "## 2.3 Plotting training process\n",
    "We want to first plot training loss versus validation loss, then plot training accuracy, validation accuracy.\n",
    "\n",
    "# TODO\n",
    "run the plotting functions"
   ]
  },
  {
   "cell_type": "code",
   "execution_count": 16,
   "metadata": {},
   "outputs": [
    {
     "data": {
      "image/png": "[encoded data removed]",
      "text/plain": [
       "<Figure size 432x288 with 1 Axes>"
      ]
     },
     "metadata": {
      "needs_background": "light"
     },
     "output_type": "display_data"
    }
   ],
   "source": [
    "## plot training loss versus validation loss\n",
    "x_axis = np.arange(n_iteration)\n",
    "plt.plot(x_axis, train_loss_list, label='train loss')\n",
    "plt.plot(x_axis, val_loss_list, label='val loss')\n",
    "plt.legend()\n",
    "plt.show()"
   ]
  },
  {
   "cell_type": "code",
   "execution_count": 17,
   "metadata": {},
   "outputs": [
    {
     "data": {
      "image/png": "[encoded data removed]",
      "text/plain": [
       "<Figure size 432x288 with 1 Axes>"
      ]
     },
     "metadata": {
      "needs_background": "light"
     },
     "output_type": "display_data"
    }
   ],
   "source": [
    "## plot training accuracy versus validation accuracy\n",
    "plt.plot(x_axis, train_accu_list, label='train acc')\n",
    "plt.plot(x_axis, val_accu_list, label='val acc')\n",
    "plt.legend()\n",
    "plt.show()"
   ]
  },
  {
   "cell_type": "markdown",
   "metadata": {},
   "source": [
    "## 2.4 Report testing performance\n",
    "We want run the trained model on test data to see how well it does\n",
    "\n",
    "# TODO\n",
    "write code here to report test accuracy on the 10000 test data"
   ]
  },
  {
   "cell_type": "code",
   "execution_count": 18,
   "metadata": {},
   "outputs": [
    {
     "name": "stdout",
     "output_type": "stream",
     "text": [
      "Test accuracy:  0.3949\n"
     ]
    }
   ],
   "source": [
    "## test performance on the test set and report final performance\n",
    "test_pred = mlp.forward(X_test_tensor)\n",
    "test_loss = criterion(test_pred, y_test_tensor)\n",
    "optimizer.zero_grad()\n",
    "test_loss.backward()\n",
    "optimizer.step()\n",
    "correct, test_accu = get_correct_and_accuracy(test_pred,y_test_tensor)\n",
    "    \n",
    "print(\"Test accuracy: \", test_accu)"
   ]
  },
  {
   "cell_type": "markdown",
   "metadata": {},
   "source": [
    "## 3.1 Now we design a convolutional network\n",
    "Check pytorch documentation for usage of each layer\n",
    "\n",
    "# TODO\n",
    "write network structure here\n",
    "you should do:\n",
    "1. use at least 2 conv layer\n",
    "2. at least 1 maxpool layer\n",
    "3. at least 2 linear layer at the end"
   ]
  },
  {
   "cell_type": "code",
   "execution_count": 19,
   "metadata": {},
   "outputs": [],
   "source": [
    "class ConvNet(nn.Module):\n",
    "    def __init__(self):\n",
    "        super(ConvNet, self).__init__()\n",
    "        self.conv1 = nn.Conv2d(3, 6, 5) #first conv layer takes in 3 channels, outputs 6, with a 5x5 kernel\n",
    "        self.conv1_bn = nn.BatchNorm2d(6)\n",
    "        self.pool = nn.MaxPool2d(2, 2)\n",
    "        self.conv2 = nn.Conv2d(6, 16, 5)\n",
    "        self.conv2_bn = nn.BatchNorm2d(16)\n",
    "        self.fc1 = nn.Linear(16 * 5 * 5, 120)\n",
    "        self.fc1_bn = nn.BatchNorm1d(120)\n",
    "        self.fc2 = nn.Linear(120, 32)\n",
    "        self.fc2_bn = nn.BatchNorm1d(32)\n",
    "        self.fc3 = nn.Linear(32, 10)\n",
    "\n",
    "    def forward(self, x):\n",
    "        x = self.pool(F.relu(self.conv1(x)))\n",
    "        x = self.pool(F.relu(self.conv2(x)))\n",
    "        x = x.view(-1, 16 * 5 * 5)\n",
    "        x = F.relu(self.fc1(x))\n",
    "        x = F.relu((self.fc2(x)))\n",
    "        x = self.fc3(x)\n",
    "        \n",
    "        return x "
   ]
  },
  {
   "cell_type": "markdown",
   "metadata": {},
   "source": [
    "#########################################################################################################\n",
    "\n",
    "The actual implementation of the Convolutional Neural Net is heavily based on the architecture of LeNet-5 as described in one of Andrew Ng's videos. The architecture includes a conv layer + maxpool, followed by another conv layer + maxpool, followed by 3 fully connected linear layers. \n",
    "\n",
    "The only changes I made were to the FC layers where I tweaked the numbers to allow for a sufficient gap between the layers to create a richer range of outputs as in the MLP and that gave a reasonable boost to the test accuracy. The intuition was to ensure that there was a steady drop in the number of units in the hidden layers in order to make sure that the model doesn't overfit, or misses out on essential data features.  \n",
    "\n",
    "I would have liked to have added a dropout layer, but due to time constraints and a lack of understanding as to how dropout layers actually work, I was unable to implement it into my architecture. \n",
    "\n",
    "However, I was able to briefly experiment with batch normalization and I added four layers of batch normalization, one after each Conv/Linear layer, and experimented with different combinations of adding them to the forward propagation method.\n",
    "Two key things were observed :\n",
    "\n",
    "1) The loss function of the training data would almost approach zero, or very close values to zero. For example, one particular value at the 39th iteration was 0.028 vs ~0.6 without batch normalization\n",
    "\n",
    "2) The test accuracy would drop. Without batch normalization, it would roughly 0.51, but with batch normalization, it would be 0.48\n",
    "\n",
    "These two observations prompted me to think that while batch normalization allows the training error to be significantly smaller because it fixes and readjusts the means and variances of the batch data after each function is applied it, it also causes a certain level of overfitting to the training data. I feel it would be more effective for a larger dataset.\n",
    "\n",
    "####################################################################################################\n",
    "\n"
   ]
  },
  {
   "cell_type": "code",
   "execution_count": 32,
   "metadata": {},
   "outputs": [],
   "source": [
    "from torch import Tensor\n"
   ]
  },
  {
   "cell_type": "markdown",
   "metadata": {},
   "source": [
    "## 3.2 Training the Convolutional Net model\n",
    "1. We first initialize the neural network, and also the optimizer and the criterion (loss function)\n",
    "2. We then convert data into correct tensor form\n",
    "3. We then start doing training iterations\n",
    "\n",
    "# TODO \n",
    "write code here \n",
    "1. init your model\n",
    "2. use Adam optimizer, with lr=1e-3\n",
    "3. use cross entropy criterion\n",
    "4. for X_train, X_val, cast to Tensor \n",
    "5. for y_train, y_val, cast to Tensor and then cast to type long\n",
    "6. simply do 40 iterations"
   ]
  },
  {
   "cell_type": "code",
   "execution_count": 21,
   "metadata": {},
   "outputs": [
    {
     "name": "stdout",
     "output_type": "stream",
     "text": [
      "model structure:  ConvNet(\n",
      "  (conv1): Conv2d(3, 6, kernel_size=(5, 5), stride=(1, 1))\n",
      "  (conv1_bn): BatchNorm2d(6, eps=1e-05, momentum=0.1, affine=True, track_running_stats=True)\n",
      "  (pool): MaxPool2d(kernel_size=2, stride=2, padding=0, dilation=1, ceil_mode=False)\n",
      "  (conv2): Conv2d(6, 16, kernel_size=(5, 5), stride=(1, 1))\n",
      "  (conv2_bn): BatchNorm2d(16, eps=1e-05, momentum=0.1, affine=True, track_running_stats=True)\n",
      "  (fc1): Linear(in_features=400, out_features=120, bias=True)\n",
      "  (fc1_bn): BatchNorm1d(120, eps=1e-05, momentum=0.1, affine=True, track_running_stats=True)\n",
      "  (fc2): Linear(in_features=120, out_features=32, bias=True)\n",
      "  (fc2_bn): BatchNorm1d(32, eps=1e-05, momentum=0.1, affine=True, track_running_stats=True)\n",
      "  (fc3): Linear(in_features=32, out_features=10, bias=True)\n",
      ")\n",
      "X train tensor shape: torch.Size([9000, 3, 32, 32])\n",
      "X test tensor shape: torch.Size([10000, 3, 32, 32])\n",
      "Y test tensor shape: torch.Size([10000])\n"
     ]
    }
   ],
   "source": [
    "# init network\n",
    "conv_net = ConvNet()\n",
    "print('model structure: ', conv_net)\n",
    "# init optimizer\n",
    "optimizer = optim.Adam(conv_net.parameters(), lr= 1e-3) #lr = 1e-1 <==> learning rate = 0.001\n",
    "\n",
    "# set loss function\n",
    "criterion = nn.CrossEntropyLoss()\n",
    "\n",
    "# prepare for mini-batch stochastic gradient descent\n",
    "n_iteration = 40\n",
    "batch_size = 256\n",
    "n_data = X_train_normalized.shape[0]\n",
    "n_batch = int(np.ceil(n_data/batch_size))\n",
    "\n",
    "# convert X_train and X_val to tensor and flatten them\n",
    "X_train_tensor = Tensor(X_train_normalized)\n",
    "X_val_tensor = Tensor(X_val_normalized)\n",
    "X_test_tensor = Tensor(X_test_normalized)\n",
    "\n",
    "# convert training label to tensor and to type long\n",
    "y_train_tensor = Tensor(y_train).long()\n",
    "y_val_tensor = Tensor(y_val).long()\n",
    "y_test_tensor = Tensor(y_test).long()\n",
    "\n",
    "print('X train tensor shape:', X_train_tensor.shape)\n",
    "print('X test tensor shape:', X_test_tensor.shape)\n",
    "print('Y test tensor shape:', y_test_tensor.shape)"
   ]
  },
  {
   "cell_type": "code",
   "execution_count": 22,
   "metadata": {},
   "outputs": [],
   "source": [
    "# import os\n",
    "# import psutil\n",
    "# process = psutil.Process(os.getpid())\n",
    "# print(process.memory_info().rss / 1000000)  # in bytes "
   ]
  },
  {
   "cell_type": "markdown",
   "metadata": {},
   "source": [
    "# TODO\n",
    "1. Here you will have to write training code \n",
    "2. As well as code to log the training process for later plotting\n",
    "3. After each iteration through training data, you should use that print function to log you current training process"
   ]
  },
  {
   "cell_type": "code",
   "execution_count": 23,
   "metadata": {
    "scrolled": true
   },
   "outputs": [
    {
     "name": "stdout",
     "output_type": "stream",
     "text": [
      "Iter 0 ,Train loss: 2.247, Train acc: 0.151, Val loss: 2.110, Val acc: 0.219\n",
      "Iter 1 ,Train loss: 2.080, Train acc: 0.250, Val loss: 1.980, Val acc: 0.278\n",
      "Iter 2 ,Train loss: 1.964, Train acc: 0.307, Val loss: 1.868, Val acc: 0.309\n",
      "Iter 3 ,Train loss: 1.888, Train acc: 0.339, Val loss: 1.819, Val acc: 0.345\n",
      "Iter 4 ,Train loss: 1.823, Train acc: 0.359, Val loss: 1.763, Val acc: 0.365\n",
      "Iter 5 ,Train loss: 1.765, Train acc: 0.384, Val loss: 1.703, Val acc: 0.387\n",
      "Iter 6 ,Train loss: 1.715, Train acc: 0.408, Val loss: 1.654, Val acc: 0.408\n",
      "Iter 7 ,Train loss: 1.678, Train acc: 0.421, Val loss: 1.616, Val acc: 0.418\n",
      "Iter 8 ,Train loss: 1.653, Train acc: 0.433, Val loss: 1.609, Val acc: 0.422\n",
      "Iter 9 ,Train loss: 1.629, Train acc: 0.437, Val loss: 1.604, Val acc: 0.424\n",
      "Iter 10 ,Train loss: 1.606, Train acc: 0.446, Val loss: 1.589, Val acc: 0.434\n",
      "Iter 11 ,Train loss: 1.585, Train acc: 0.458, Val loss: 1.572, Val acc: 0.435\n",
      "Iter 12 ,Train loss: 1.566, Train acc: 0.466, Val loss: 1.547, Val acc: 0.444\n",
      "Iter 13 ,Train loss: 1.549, Train acc: 0.472, Val loss: 1.532, Val acc: 0.444\n",
      "Iter 14 ,Train loss: 1.529, Train acc: 0.478, Val loss: 1.515, Val acc: 0.448\n",
      "Iter 15 ,Train loss: 1.512, Train acc: 0.483, Val loss: 1.496, Val acc: 0.458\n",
      "Iter 16 ,Train loss: 1.495, Train acc: 0.490, Val loss: 1.482, Val acc: 0.469\n",
      "Iter 17 ,Train loss: 1.479, Train acc: 0.495, Val loss: 1.466, Val acc: 0.469\n",
      "Iter 18 ,Train loss: 1.464, Train acc: 0.502, Val loss: 1.460, Val acc: 0.471\n",
      "Iter 19 ,Train loss: 1.450, Train acc: 0.507, Val loss: 1.448, Val acc: 0.476\n",
      "Iter 20 ,Train loss: 1.436, Train acc: 0.513, Val loss: 1.435, Val acc: 0.481\n",
      "Iter 21 ,Train loss: 1.423, Train acc: 0.519, Val loss: 1.421, Val acc: 0.485\n",
      "Iter 22 ,Train loss: 1.407, Train acc: 0.522, Val loss: 1.403, Val acc: 0.493\n",
      "Iter 23 ,Train loss: 1.395, Train acc: 0.526, Val loss: 1.397, Val acc: 0.494\n",
      "Iter 24 ,Train loss: 1.382, Train acc: 0.532, Val loss: 1.386, Val acc: 0.499\n",
      "Iter 25 ,Train loss: 1.370, Train acc: 0.537, Val loss: 1.383, Val acc: 0.504\n",
      "Iter 26 ,Train loss: 1.360, Train acc: 0.542, Val loss: 1.378, Val acc: 0.506\n",
      "Iter 27 ,Train loss: 1.349, Train acc: 0.545, Val loss: 1.375, Val acc: 0.509\n",
      "Iter 28 ,Train loss: 1.339, Train acc: 0.551, Val loss: 1.367, Val acc: 0.512\n",
      "Iter 29 ,Train loss: 1.328, Train acc: 0.554, Val loss: 1.359, Val acc: 0.506\n",
      "Iter 30 ,Train loss: 1.314, Train acc: 0.560, Val loss: 1.353, Val acc: 0.511\n",
      "Iter 31 ,Train loss: 1.303, Train acc: 0.564, Val loss: 1.345, Val acc: 0.511\n",
      "Iter 32 ,Train loss: 1.292, Train acc: 0.567, Val loss: 1.346, Val acc: 0.516\n",
      "Iter 33 ,Train loss: 1.283, Train acc: 0.570, Val loss: 1.345, Val acc: 0.511\n",
      "Iter 34 ,Train loss: 1.272, Train acc: 0.575, Val loss: 1.345, Val acc: 0.516\n",
      "Iter 35 ,Train loss: 1.264, Train acc: 0.577, Val loss: 1.342, Val acc: 0.521\n",
      "Iter 36 ,Train loss: 1.261, Train acc: 0.577, Val loss: 1.342, Val acc: 0.514\n",
      "Iter 37 ,Train loss: 1.259, Train acc: 0.578, Val loss: 1.336, Val acc: 0.515\n",
      "Iter 38 ,Train loss: 1.239, Train acc: 0.587, Val loss: 1.328, Val acc: 0.518\n",
      "Iter 39 ,Train loss: 1.223, Train acc: 0.595, Val loss: 1.329, Val acc: 0.516\n"
     ]
    }
   ],
   "source": [
    "## start \n",
    "train_loss_list = np.zeros(n_iteration)\n",
    "train_accu_list = np.zeros(n_iteration)\n",
    "val_loss_list = np.zeros(n_iteration)\n",
    "val_accu_list = np.zeros(n_iteration)\n",
    "\n",
    "train_accu = 0\n",
    "val_accu = 0\n",
    "ave_train_loss = 0\n",
    "val_loss = 0\n",
    "\n",
    "for i in range(n_iteration):\n",
    "    # first get a minibatch of data\n",
    "    for j in range(n_batch):\n",
    "        batch_start_index = j*batch_size\n",
    "        # get data batch from the normalized data\n",
    "        X_batch = X_train_tensor[batch_start_index:batch_start_index+batch_size]\n",
    "        # get ground truth label y\n",
    "        y_batch = y_train_tensor[batch_start_index:batch_start_index+batch_size]\n",
    "    \n",
    "        y_pred_train = conv_net.forward(X_batch)\n",
    "        train_loss = criterion(y_pred_train, y_batch)\n",
    "    \n",
    "        optimizer.zero_grad()\n",
    "        train_loss.backward()\n",
    "        optimizer.step()\n",
    "    \n",
    "        numCorrect, iter_accu = get_correct_and_accuracy(y_pred_train, y_batch)\n",
    "\n",
    "        train_accu += iter_accu\n",
    "        ave_train_loss += train_loss.item()\n",
    "        \n",
    "#     process = psutil.Process(os.getpid())\n",
    "#     print(i, process.memory_info().rss / 1000000)  # in bytes \n",
    "    \n",
    "    train_accu /= n_batch\n",
    "    ave_train_loss /= n_batch\n",
    "    \n",
    "    val_pred = conv_net.forward(X_val_tensor)\n",
    "    val_loss = criterion(val_pred, y_val_tensor)\n",
    "    optimizer.zero_grad()\n",
    "    val_loss.backward()\n",
    "    optimizer.step()\n",
    "    correct, val_accu = get_correct_and_accuracy(val_pred,y_val_tensor)\n",
    "    \n",
    "    print(\"Iter %d ,Train loss: %.3f, Train acc: %.3f, Val loss: %.3f, Val acc: %.3f\" \n",
    "          %(i ,ave_train_loss, train_accu, val_loss, val_accu)) \n",
    "    ## add to the logs so that we can use them later for plotting\n",
    "    train_loss_list[i] = ave_train_loss\n",
    "    train_accu_list[i] = train_accu\n",
    "    val_loss_list[i] = val_loss.item()\n",
    "    val_accu_list[i] = val_accu"
   ]
  },
  {
   "cell_type": "markdown",
   "metadata": {},
   "source": [
    "## 3.3 Plotting training process\n",
    "We want to first plot training loss versus validation loss, then plot training accuracy, validation accuracy.\n",
    "\n",
    "# TODO \n",
    "run the code here for plotting"
   ]
  },
  {
   "cell_type": "code",
   "execution_count": 27,
   "metadata": {},
   "outputs": [
    {
     "data": {
      "image/png": "[encoded data removed]",
      "text/plain": [
       "<Figure size 432x288 with 1 Axes>"
      ]
     },
     "metadata": {
      "needs_background": "light"
     },
     "output_type": "display_data"
    }
   ],
   "source": [
    "## plot training loss versus validation loss\n",
    "x_axis = np.arange(n_iteration)\n",
    "plt.plot(x_axis, train_loss_list, label='train loss')\n",
    "plt.plot(x_axis, val_loss_list, label='val loss')\n",
    "plt.legend()\n",
    "plt.show()"
   ]
  },
  {
   "cell_type": "code",
   "execution_count": 28,
   "metadata": {},
   "outputs": [
    {
     "data": {
      "image/png": "[encoded data removed]",
      "text/plain": [
       "<Figure size 432x288 with 1 Axes>"
      ]
     },
     "metadata": {
      "needs_background": "light"
     },
     "output_type": "display_data"
    }
   ],
   "source": [
    "## plot training accuracy versus validation accuracy\n",
    "plt.plot(x_axis, train_accu_list, label='train acc')\n",
    "plt.plot(x_axis, val_accu_list, label='val acc')\n",
    "plt.legend()\n",
    "plt.show()"
   ]
  },
  {
   "cell_type": "markdown",
   "metadata": {},
   "source": [
    "###################################################################\n",
    "\n",
    "I believe the reason for the difference in shape between my CNN graphs and the ones in the reference solution is likely due to a difference in network architecture. However, I believe the architecture that I have implemented gives satisfactory results\n",
    "\n",
    "####################################################################\n"
   ]
  },
  {
   "cell_type": "markdown",
   "metadata": {},
   "source": [
    "## 3.4 Report testing performance\n",
    "We want run the trained model on test data to see how well it does\n",
    "\n",
    "# TODO\n",
    "write code here to report test accuracy on the 10000 test data"
   ]
  },
  {
   "cell_type": "code",
   "execution_count": 29,
   "metadata": {},
   "outputs": [
    {
     "name": "stdout",
     "output_type": "stream",
     "text": [
      "Test accuracy:  0.5084\n"
     ]
    }
   ],
   "source": [
    "## test performance on the test set and report final performance\n",
    "## test performance on the test set and report final performance\n",
    "test_pred = conv_net.forward(X_test_tensor)\n",
    "test_loss = criterion(test_pred, y_test_tensor)\n",
    "optimizer.zero_grad()\n",
    "test_loss.backward()\n",
    "optimizer.step()\n",
    "correct, test_accu = get_correct_and_accuracy(test_pred,y_test_tensor)\n",
    "\n",
    "print(\"Test accuracy: \", test_accu )"
   ]
  },
  {
   "cell_type": "markdown",
   "metadata": {},
   "source": [
    "## Other things you can do to improve model performance: \n",
    "1. Add in regularization, you can use l2, Dropout\n",
    "2. Use a better data normalization method\n",
    "3. Train on more data\n",
    "4. Do data augmentation to get more data\n",
    "5. Use a more powerful network structure\n",
    "6. Do transfer learning"
   ]
  },
  {
   "cell_type": "markdown",
   "metadata": {},
   "source": [
    "############################################################################################################\n",
    "\n",
    "At the time of submitting, the test accuracy for MLP was 0.3949 and the test accuracy for the CNN was 0.5084\n",
    "\n",
    "############################################################################################################"
   ]
  },
  {
   "cell_type": "code",
   "execution_count": null,
   "metadata": {},
   "outputs": [],
   "source": []
  },
  {
   "cell_type": "code",
   "execution_count": null,
   "metadata": {},
   "outputs": [],
   "source": []
  }
 ],
 "metadata": {
  "kernelspec": {
   "display_name": "Python 3",
   "language": "python",
   "name": "python3"
  },
  "language_info": {
   "codemirror_mode": {
    "name": "ipython",
    "version": 3
   },
   "file_extension": ".py",
   "mimetype": "text/x-python",
   "name": "python",
   "nbconvert_exporter": "python",
   "pygments_lexer": "ipython3",
   "version": "3.6.8"
  }
 },
 "nbformat": 4,
 "nbformat_minor": 2
}
