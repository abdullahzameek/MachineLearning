{
 "cells": [
  {
   "cell_type": "markdown",
   "metadata": {},
   "source": [
    "In this exercise, you will be asked to implement the K-Nearest Neighbor (KNN) algorithm on the MNIST dataset."
   ]
  },
  {
   "cell_type": "code",
   "execution_count": 31,
   "metadata": {},
   "outputs": [],
   "source": [
    "import numpy as np\n",
    "from matplotlib import pyplot as plt\n",
    "import time"
   ]
  },
  {
   "cell_type": "code",
   "execution_count": 37,
   "metadata": {},
   "outputs": [],
   "source": [
    "### Load the dataset\n",
    "train_set = np.loadtxt('mnist_train.csv', delimiter=',')\n",
    "test_set = np.loadtxt('mnist_test.csv', delimiter=',')\n",
    "x_train, y_train = train_set[:,1:], train_set[:,0].astype(int)\n",
    "x_test, y_test = test_set[:,1:], test_set[:,0].astype(int)\n",
    "num_train, num_test = train_set.shape[0], test_set.shape[0]"
   ]
  },
  {
   "cell_type": "code",
   "execution_count": 38,
   "metadata": {},
   "outputs": [],
   "source": [
    "# Display image\n",
    "def show_image(feature_matrix, index):\n",
    "    '''\n",
    "    Displays one of the digits in the dataset\n",
    "    Input: Feature matrix\n",
    "    Output: grayscale image of digit\n",
    "    '''\n",
    "    image_vector = feature_matrix[index]\n",
    "    image_matrix = np.array(image_vector).reshape(28,28)\n",
    "    plt.gray()\n",
    "    plt.imshow(image_matrix, interpolation='nearest')\n",
    "    plt.show()"
   ]
  },
  {
   "cell_type": "code",
   "execution_count": 39,
   "metadata": {},
   "outputs": [],
   "source": [
    "class KNN:\n",
    "    def __init__(self, x_train, y_train, K):\n",
    "        self.x_train = x_train\n",
    "        self.y_train = y_train\n",
    "        self.K = K\n",
    "        \n",
    "    def compute_distance_two_loop(self, x_test, y_test):\n",
    "        num_train = self.x_train.shape[0]\n",
    "        num_test = x_test.shape[0]\n",
    "        dist = np.zeros((num_test, num_train))\n",
    "        \n",
    "        for i in range(num_test):\n",
    "            for j in range(num_train):\n",
    "                #####################################################################\n",
    "                # TODO:                                                             #\n",
    "                # Compute the l2 distance between the ith test point and the jth    #\n",
    "                # training point, and store the result in dist[i, j].               #\n",
    "                #####################################################################\n",
    "                \n",
    "                #####################################################################\n",
    "                ########################### Your Code Here ##########################\n",
    "                pass\n",
    "                ########################### End of Your Code ########################\n",
    "                #####################################################################\n",
    "            \n",
    "        return dist\n",
    "    \n",
    "    \n",
    "    \n",
    "    \n",
    "    def compute_distance_one_loop(self, x_test, y_test):\n",
    "        num_train = self.x_train.shape[0]\n",
    "        num_test = x_test.shape[0]\n",
    "        dist = np.zeros((num_test, num_train))\n",
    "        \n",
    "        for i in range(num_test):\n",
    "            #####################################################################\n",
    "            # TODO:                                                             #\n",
    "            # Compute the l2 distance between the ith test point and the all    #\n",
    "            # training point, and store the result in dist[i, :].              #\n",
    "            #####################################################################\n",
    "            \n",
    "            #####################################################################\n",
    "            ########################### Your Code Here ##########################\n",
    "            pass\n",
    "            ########################### End of Your Code ########################\n",
    "            #####################################################################\n",
    "            \n",
    "        return dist\n",
    "    \n",
    "    def predict(self, dist):\n",
    "        num_test = dist.shape[0]\n",
    "        y_pred = np.zeros(num_test)\n",
    "        \n",
    "        #####################################################################\n",
    "        # TODO:                                                             #\n",
    "        # Using the dist matrix, calculate the prediction results for the   #\n",
    "        # test set and store in y_pred (hint: look up np.argsort)           #\n",
    "        #####################################################################\n",
    "            \n",
    "        #####################################################################\n",
    "        ########################### Your Code Here ##########################\n",
    "        pass\n",
    "        ########################### End of Your Code ########################\n",
    "        #####################################################################\n",
    "            \n",
    "        return y_pred\n",
    "    \n",
    "    \n",
    "    def get_accuracy(self, y_pred, y_test):\n",
    "        #################################################\n",
    "        # TODO: Calculate accuracy of KNN classifier on #\n",
    "        # on test set.                                  #\n",
    "        #################################################\n",
    "        \n",
    "        ################################################\n",
    "        ############# Your Code Here ###################\n",
    "        ################################################\n",
    "        pass\n",
    "        ################################################\n",
    "        ############# End of Your Code #################\n",
    "        ################################################\n",
    "        return accuracy"
   ]
  },
  {
   "cell_type": "code",
   "execution_count": 36,
   "metadata": {},
   "outputs": [
    {
     "ename": "TypeError",
     "evalue": "show_image() missing 2 required positional arguments: 'feature_matrix' and 'index'",
     "output_type": "error",
     "traceback": [
      "\u001b[0;31m---------------------------------------------------------------------------\u001b[0m",
      "\u001b[0;31mTypeError\u001b[0m                                 Traceback (most recent call last)",
      "\u001b[0;32m<ipython-input-36-d3d6118ef9b8>\u001b[0m in \u001b[0;36m<module>\u001b[0;34m()\u001b[0m\n\u001b[1;32m      3\u001b[0m \u001b[0;34m\u001b[0m\u001b[0m\n\u001b[1;32m      4\u001b[0m \u001b[0mknn\u001b[0m \u001b[0;34m=\u001b[0m \u001b[0mKNN\u001b[0m\u001b[0;34m(\u001b[0m\u001b[0mx_train\u001b[0m\u001b[0;34m,\u001b[0m \u001b[0my_train\u001b[0m\u001b[0;34m,\u001b[0m \u001b[0mK\u001b[0m\u001b[0;34m)\u001b[0m\u001b[0;34m\u001b[0m\u001b[0m\n\u001b[0;32m----> 5\u001b[0;31m \u001b[0mshow_image\u001b[0m\u001b[0;34m(\u001b[0m\u001b[0;34m)\u001b[0m\u001b[0;34m\u001b[0m\u001b[0m\n\u001b[0m\u001b[1;32m      6\u001b[0m \u001b[0;31m# Using two loops\u001b[0m\u001b[0;34m\u001b[0m\u001b[0;34m\u001b[0m\u001b[0m\n\u001b[1;32m      7\u001b[0m \u001b[0mstart\u001b[0m \u001b[0;34m=\u001b[0m \u001b[0mtime\u001b[0m\u001b[0;34m.\u001b[0m\u001b[0mtime\u001b[0m\u001b[0;34m(\u001b[0m\u001b[0;34m)\u001b[0m\u001b[0;34m\u001b[0m\u001b[0m\n",
      "\u001b[0;31mTypeError\u001b[0m: show_image() missing 2 required positional arguments: 'feature_matrix' and 'index'"
     ]
    }
   ],
   "source": [
    "# Set hyperparameter\n",
    "K = 5\n",
    "\n",
    "knn = KNN(x_train, y_train, K)\n",
    "\n",
    "# Using two loops\n",
    "start = time.time()\n",
    "dist = knn.compute_distance_two_loop(x_test, y_test)\n",
    "end = time.time()\n",
    "print(\"Computing the distance matrix using two loops took \", end-start)\n",
    "\n",
    "# Using one loop\n",
    "start = time.time()\n",
    "dist = knn.compute_distance_one_loop(x_test, y_test)\n",
    "end = time.time()\n",
    "print(\"Computing the distance matrix using one loop took \", end-start)\n",
    "\n",
    "# Predict results\n",
    "y_pred = knn.predict(dist)\n",
    "\n",
    "# Get accuracy\n",
    "accuracy = knn.get_accuracy(y_pred, y_test)\n",
    "\n",
    "\n",
    "print('My classifier has an accuracy of', accuracy)\n",
    "\n",
    "\n"
   ]
  },
  {
   "cell_type": "code",
   "execution_count": null,
   "metadata": {},
   "outputs": [],
   "source": []
  },
  {
   "cell_type": "code",
   "execution_count": null,
   "metadata": {},
   "outputs": [],
   "source": []
  },
  {
   "cell_type": "code",
   "execution_count": null,
   "metadata": {},
   "outputs": [],
   "source": []
  },
  {
   "cell_type": "code",
   "execution_count": null,
   "metadata": {},
   "outputs": [],
   "source": []
  }
 ],
 "metadata": {
  "kernelspec": {
   "display_name": "Python 3",
   "language": "python",
   "name": "python3"
  },
  "language_info": {
   "codemirror_mode": {
    "name": "ipython",
    "version": 3
   },
   "file_extension": ".py",
   "mimetype": "text/x-python",
   "name": "python",
   "nbconvert_exporter": "python",
   "pygments_lexer": "ipython3",
   "version": "3.6.5"
  }
 },
 "nbformat": 4,
 "nbformat_minor": 2
}
